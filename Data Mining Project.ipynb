{
 "cells": [
  {
   "cell_type": "markdown",
   "metadata": {},
   "source": [
    "# Data Mining Project"
   ]
  },
  {
   "cell_type": "code",
   "execution_count": 16,
   "metadata": {},
   "outputs": [],
   "source": [
    "# Import required packages\n",
    "import numpy as np\n",
    "import pandas as pd\n",
    "import matplotlib.pyplot as plt\n",
    "import seaborn as sns\n",
    "from datetime import datetime\n",
    "from random import sample\n",
    "import random\n",
    "from tensorflow import keras \n",
    "\n",
    "from sklearn.linear_model import LinearRegression\n",
    "from sklearn.model_selection import cross_val_score\n",
    "from sklearn.metrics import mean_squared_error\n",
    "from sklearn.metrics import make_scorer\n",
    "\n",
    "from numpy import array\n",
    "from numpy import hstack\n",
    "from keras.models import Sequential\n",
    "from keras.layers import Dense\n",
    "from keras.layers import LSTM\n",
    "from keras.layers import RNN, SimpleRNN\n",
    "from keras.preprocessing.sequence import TimeseriesGenerator\n",
    "from keras.layers import Dropout\n",
    "from tensorflow.keras.optimizers import Adam\n",
    "from keras.layers.core import Activation\n",
    "from keras.callbacks import LambdaCallback\n",
    "from sklearn.preprocessing import MinMaxScaler"
   ]
  },
  {
   "cell_type": "code",
   "execution_count": 17,
   "metadata": {},
   "outputs": [],
   "source": [
    "# Load dataset\n",
    "bike = pd.read_csv(\"https://raw.githubusercontent.com/vedantw29/Data-Mining-Project/main/Bike-sharing-day.csv\")"
   ]
  },
  {
   "cell_type": "code",
   "execution_count": 18,
   "metadata": {},
   "outputs": [],
   "source": [
    "# Keep relevant columns\n",
    "bike = bike.drop(columns=['atemp', 'casual', 'registered'])"
   ]
  },
  {
   "cell_type": "code",
   "execution_count": 19,
   "metadata": {},
   "outputs": [],
   "source": [
    "test = []\n",
    "for i in range(len(bike['dteday'])) :\n",
    "    test.append(datetime.strptime(bike['dteday'][i], '%Y-%m-%d'))"
   ]
  },
  {
   "cell_type": "code",
   "execution_count": 20,
   "metadata": {},
   "outputs": [],
   "source": [
    "# Convert to categorical variables\n",
    "bike['season'] = bike['season'].astype('category',copy=False)\n",
    "bike['holiday'] = bike['holiday'].astype('category',copy=False)\n",
    "bike['weekday'] = bike['weekday'].astype('category',copy=False)\n",
    "bike['workingday'] = bike['workingday'].astype('category',copy=False)\n",
    "bike['weathersit'] = bike['weathersit'].astype('category',copy=False)\n",
    "bike['yr'] = bike['yr'].astype('category',copy=False)\n",
    "bike['mnth'] = bike['mnth'].astype('category',copy=False)"
   ]
  },
  {
   "cell_type": "code",
   "execution_count": 21,
   "metadata": {},
   "outputs": [
    {
     "data": {
      "text/html": [
       "<div>\n",
       "<style scoped>\n",
       "    .dataframe tbody tr th:only-of-type {\n",
       "        vertical-align: middle;\n",
       "    }\n",
       "\n",
       "    .dataframe tbody tr th {\n",
       "        vertical-align: top;\n",
       "    }\n",
       "\n",
       "    .dataframe thead th {\n",
       "        text-align: right;\n",
       "    }\n",
       "</style>\n",
       "<table border=\"1\" class=\"dataframe\">\n",
       "  <thead>\n",
       "    <tr style=\"text-align: right;\">\n",
       "      <th></th>\n",
       "      <th>instant</th>\n",
       "      <th>dteday</th>\n",
       "      <th>season</th>\n",
       "      <th>yr</th>\n",
       "      <th>mnth</th>\n",
       "      <th>holiday</th>\n",
       "      <th>weekday</th>\n",
       "      <th>workingday</th>\n",
       "      <th>weathersit</th>\n",
       "      <th>temp</th>\n",
       "      <th>hum</th>\n",
       "      <th>windspeed</th>\n",
       "      <th>cnt</th>\n",
       "    </tr>\n",
       "  </thead>\n",
       "  <tbody>\n",
       "    <tr>\n",
       "      <th>0</th>\n",
       "      <td>1</td>\n",
       "      <td>2011-01-01</td>\n",
       "      <td>1</td>\n",
       "      <td>0</td>\n",
       "      <td>1</td>\n",
       "      <td>0</td>\n",
       "      <td>6</td>\n",
       "      <td>0</td>\n",
       "      <td>2</td>\n",
       "      <td>0.344167</td>\n",
       "      <td>0.805833</td>\n",
       "      <td>0.160446</td>\n",
       "      <td>985</td>\n",
       "    </tr>\n",
       "    <tr>\n",
       "      <th>1</th>\n",
       "      <td>2</td>\n",
       "      <td>2011-01-02</td>\n",
       "      <td>1</td>\n",
       "      <td>0</td>\n",
       "      <td>1</td>\n",
       "      <td>0</td>\n",
       "      <td>0</td>\n",
       "      <td>0</td>\n",
       "      <td>2</td>\n",
       "      <td>0.363478</td>\n",
       "      <td>0.696087</td>\n",
       "      <td>0.248539</td>\n",
       "      <td>801</td>\n",
       "    </tr>\n",
       "    <tr>\n",
       "      <th>2</th>\n",
       "      <td>3</td>\n",
       "      <td>2011-01-03</td>\n",
       "      <td>1</td>\n",
       "      <td>0</td>\n",
       "      <td>1</td>\n",
       "      <td>0</td>\n",
       "      <td>1</td>\n",
       "      <td>1</td>\n",
       "      <td>1</td>\n",
       "      <td>0.196364</td>\n",
       "      <td>0.437273</td>\n",
       "      <td>0.248309</td>\n",
       "      <td>1349</td>\n",
       "    </tr>\n",
       "    <tr>\n",
       "      <th>3</th>\n",
       "      <td>4</td>\n",
       "      <td>2011-01-04</td>\n",
       "      <td>1</td>\n",
       "      <td>0</td>\n",
       "      <td>1</td>\n",
       "      <td>0</td>\n",
       "      <td>2</td>\n",
       "      <td>1</td>\n",
       "      <td>1</td>\n",
       "      <td>0.200000</td>\n",
       "      <td>0.590435</td>\n",
       "      <td>0.160296</td>\n",
       "      <td>1562</td>\n",
       "    </tr>\n",
       "    <tr>\n",
       "      <th>4</th>\n",
       "      <td>5</td>\n",
       "      <td>2011-01-05</td>\n",
       "      <td>1</td>\n",
       "      <td>0</td>\n",
       "      <td>1</td>\n",
       "      <td>0</td>\n",
       "      <td>3</td>\n",
       "      <td>1</td>\n",
       "      <td>1</td>\n",
       "      <td>0.226957</td>\n",
       "      <td>0.436957</td>\n",
       "      <td>0.186900</td>\n",
       "      <td>1600</td>\n",
       "    </tr>\n",
       "  </tbody>\n",
       "</table>\n",
       "</div>"
      ],
      "text/plain": [
       "   instant      dteday season yr mnth holiday weekday workingday weathersit  \\\n",
       "0        1  2011-01-01      1  0    1       0       6          0          2   \n",
       "1        2  2011-01-02      1  0    1       0       0          0          2   \n",
       "2        3  2011-01-03      1  0    1       0       1          1          1   \n",
       "3        4  2011-01-04      1  0    1       0       2          1          1   \n",
       "4        5  2011-01-05      1  0    1       0       3          1          1   \n",
       "\n",
       "       temp       hum  windspeed   cnt  \n",
       "0  0.344167  0.805833   0.160446   985  \n",
       "1  0.363478  0.696087   0.248539   801  \n",
       "2  0.196364  0.437273   0.248309  1349  \n",
       "3  0.200000  0.590435   0.160296  1562  \n",
       "4  0.226957  0.436957   0.186900  1600  "
      ]
     },
     "execution_count": 21,
     "metadata": {},
     "output_type": "execute_result"
    }
   ],
   "source": [
    "# Top few observations\n",
    "bike.head()"
   ]
  },
  {
   "cell_type": "code",
   "execution_count": 22,
   "metadata": {},
   "outputs": [
    {
     "data": {
      "text/html": [
       "<div>\n",
       "<style scoped>\n",
       "    .dataframe tbody tr th:only-of-type {\n",
       "        vertical-align: middle;\n",
       "    }\n",
       "\n",
       "    .dataframe tbody tr th {\n",
       "        vertical-align: top;\n",
       "    }\n",
       "\n",
       "    .dataframe thead th {\n",
       "        text-align: right;\n",
       "    }\n",
       "</style>\n",
       "<table border=\"1\" class=\"dataframe\">\n",
       "  <thead>\n",
       "    <tr style=\"text-align: right;\">\n",
       "      <th></th>\n",
       "      <th>instant</th>\n",
       "      <th>temp</th>\n",
       "      <th>hum</th>\n",
       "      <th>windspeed</th>\n",
       "      <th>cnt</th>\n",
       "    </tr>\n",
       "  </thead>\n",
       "  <tbody>\n",
       "    <tr>\n",
       "      <th>count</th>\n",
       "      <td>731.000000</td>\n",
       "      <td>731.000000</td>\n",
       "      <td>731.000000</td>\n",
       "      <td>731.000000</td>\n",
       "      <td>731.000000</td>\n",
       "    </tr>\n",
       "    <tr>\n",
       "      <th>mean</th>\n",
       "      <td>366.000000</td>\n",
       "      <td>0.495385</td>\n",
       "      <td>0.627894</td>\n",
       "      <td>0.190486</td>\n",
       "      <td>4504.348837</td>\n",
       "    </tr>\n",
       "    <tr>\n",
       "      <th>std</th>\n",
       "      <td>211.165812</td>\n",
       "      <td>0.183051</td>\n",
       "      <td>0.142429</td>\n",
       "      <td>0.077498</td>\n",
       "      <td>1937.211452</td>\n",
       "    </tr>\n",
       "    <tr>\n",
       "      <th>min</th>\n",
       "      <td>1.000000</td>\n",
       "      <td>0.059130</td>\n",
       "      <td>0.000000</td>\n",
       "      <td>0.022392</td>\n",
       "      <td>22.000000</td>\n",
       "    </tr>\n",
       "    <tr>\n",
       "      <th>25%</th>\n",
       "      <td>183.500000</td>\n",
       "      <td>0.337083</td>\n",
       "      <td>0.520000</td>\n",
       "      <td>0.134950</td>\n",
       "      <td>3152.000000</td>\n",
       "    </tr>\n",
       "    <tr>\n",
       "      <th>50%</th>\n",
       "      <td>366.000000</td>\n",
       "      <td>0.498333</td>\n",
       "      <td>0.626667</td>\n",
       "      <td>0.180975</td>\n",
       "      <td>4548.000000</td>\n",
       "    </tr>\n",
       "    <tr>\n",
       "      <th>75%</th>\n",
       "      <td>548.500000</td>\n",
       "      <td>0.655417</td>\n",
       "      <td>0.730209</td>\n",
       "      <td>0.233214</td>\n",
       "      <td>5956.000000</td>\n",
       "    </tr>\n",
       "    <tr>\n",
       "      <th>max</th>\n",
       "      <td>731.000000</td>\n",
       "      <td>0.861667</td>\n",
       "      <td>0.972500</td>\n",
       "      <td>0.507463</td>\n",
       "      <td>8714.000000</td>\n",
       "    </tr>\n",
       "  </tbody>\n",
       "</table>\n",
       "</div>"
      ],
      "text/plain": [
       "          instant        temp         hum   windspeed          cnt\n",
       "count  731.000000  731.000000  731.000000  731.000000   731.000000\n",
       "mean   366.000000    0.495385    0.627894    0.190486  4504.348837\n",
       "std    211.165812    0.183051    0.142429    0.077498  1937.211452\n",
       "min      1.000000    0.059130    0.000000    0.022392    22.000000\n",
       "25%    183.500000    0.337083    0.520000    0.134950  3152.000000\n",
       "50%    366.000000    0.498333    0.626667    0.180975  4548.000000\n",
       "75%    548.500000    0.655417    0.730209    0.233214  5956.000000\n",
       "max    731.000000    0.861667    0.972500    0.507463  8714.000000"
      ]
     },
     "execution_count": 22,
     "metadata": {},
     "output_type": "execute_result"
    }
   ],
   "source": [
    "# Summary statistics\n",
    "bike.describe()"
   ]
  },
  {
   "cell_type": "code",
   "execution_count": 23,
   "metadata": {},
   "outputs": [
    {
     "data": {
      "text/html": [
       "<div>\n",
       "<style scoped>\n",
       "    .dataframe tbody tr th:only-of-type {\n",
       "        vertical-align: middle;\n",
       "    }\n",
       "\n",
       "    .dataframe tbody tr th {\n",
       "        vertical-align: top;\n",
       "    }\n",
       "\n",
       "    .dataframe thead th {\n",
       "        text-align: right;\n",
       "    }\n",
       "</style>\n",
       "<table border=\"1\" class=\"dataframe\">\n",
       "  <thead>\n",
       "    <tr style=\"text-align: right;\">\n",
       "      <th></th>\n",
       "      <th>yr</th>\n",
       "      <th>mnth</th>\n",
       "      <th>season</th>\n",
       "      <th>holiday</th>\n",
       "      <th>weekday</th>\n",
       "      <th>workingday</th>\n",
       "      <th>weathersit</th>\n",
       "    </tr>\n",
       "  </thead>\n",
       "  <tbody>\n",
       "    <tr>\n",
       "      <th>count</th>\n",
       "      <td>731</td>\n",
       "      <td>731</td>\n",
       "      <td>731</td>\n",
       "      <td>731</td>\n",
       "      <td>731</td>\n",
       "      <td>731</td>\n",
       "      <td>731</td>\n",
       "    </tr>\n",
       "    <tr>\n",
       "      <th>unique</th>\n",
       "      <td>2</td>\n",
       "      <td>12</td>\n",
       "      <td>4</td>\n",
       "      <td>2</td>\n",
       "      <td>7</td>\n",
       "      <td>2</td>\n",
       "      <td>3</td>\n",
       "    </tr>\n",
       "    <tr>\n",
       "      <th>top</th>\n",
       "      <td>1</td>\n",
       "      <td>12</td>\n",
       "      <td>3</td>\n",
       "      <td>0</td>\n",
       "      <td>6</td>\n",
       "      <td>1</td>\n",
       "      <td>1</td>\n",
       "    </tr>\n",
       "    <tr>\n",
       "      <th>freq</th>\n",
       "      <td>366</td>\n",
       "      <td>62</td>\n",
       "      <td>188</td>\n",
       "      <td>710</td>\n",
       "      <td>105</td>\n",
       "      <td>500</td>\n",
       "      <td>463</td>\n",
       "    </tr>\n",
       "  </tbody>\n",
       "</table>\n",
       "</div>"
      ],
      "text/plain": [
       "         yr  mnth  season  holiday  weekday  workingday  weathersit\n",
       "count   731   731     731      731      731         731         731\n",
       "unique    2    12       4        2        7           2           3\n",
       "top       1    12       3        0        6           1           1\n",
       "freq    366    62     188      710      105         500         463"
      ]
     },
     "execution_count": 23,
     "metadata": {},
     "output_type": "execute_result"
    }
   ],
   "source": [
    "bike[['yr','mnth','season','holiday','weekday','workingday','weathersit']].describe()"
   ]
  },
  {
   "cell_type": "code",
   "execution_count": 24,
   "metadata": {},
   "outputs": [
    {
     "data": {
      "text/html": [
       "<div>\n",
       "<style scoped>\n",
       "    .dataframe tbody tr th:only-of-type {\n",
       "        vertical-align: middle;\n",
       "    }\n",
       "\n",
       "    .dataframe tbody tr th {\n",
       "        vertical-align: top;\n",
       "    }\n",
       "\n",
       "    .dataframe thead th {\n",
       "        text-align: right;\n",
       "    }\n",
       "</style>\n",
       "<table border=\"1\" class=\"dataframe\">\n",
       "  <thead>\n",
       "    <tr style=\"text-align: right;\">\n",
       "      <th></th>\n",
       "      <th>instant</th>\n",
       "      <th>dteday</th>\n",
       "      <th>season</th>\n",
       "      <th>yr</th>\n",
       "      <th>holiday</th>\n",
       "      <th>weekday</th>\n",
       "      <th>workingday</th>\n",
       "      <th>weathersit</th>\n",
       "      <th>temp</th>\n",
       "      <th>hum</th>\n",
       "      <th>windspeed</th>\n",
       "      <th>cnt</th>\n",
       "    </tr>\n",
       "    <tr>\n",
       "      <th>mnth</th>\n",
       "      <th></th>\n",
       "      <th></th>\n",
       "      <th></th>\n",
       "      <th></th>\n",
       "      <th></th>\n",
       "      <th></th>\n",
       "      <th></th>\n",
       "      <th></th>\n",
       "      <th></th>\n",
       "      <th></th>\n",
       "      <th></th>\n",
       "      <th></th>\n",
       "    </tr>\n",
       "  </thead>\n",
       "  <tbody>\n",
       "    <tr>\n",
       "      <th>1</th>\n",
       "      <td>62</td>\n",
       "      <td>62</td>\n",
       "      <td>62</td>\n",
       "      <td>62</td>\n",
       "      <td>62</td>\n",
       "      <td>62</td>\n",
       "      <td>62</td>\n",
       "      <td>62</td>\n",
       "      <td>62</td>\n",
       "      <td>62</td>\n",
       "      <td>62</td>\n",
       "      <td>62</td>\n",
       "    </tr>\n",
       "    <tr>\n",
       "      <th>2</th>\n",
       "      <td>57</td>\n",
       "      <td>57</td>\n",
       "      <td>57</td>\n",
       "      <td>57</td>\n",
       "      <td>57</td>\n",
       "      <td>57</td>\n",
       "      <td>57</td>\n",
       "      <td>57</td>\n",
       "      <td>57</td>\n",
       "      <td>57</td>\n",
       "      <td>57</td>\n",
       "      <td>57</td>\n",
       "    </tr>\n",
       "    <tr>\n",
       "      <th>3</th>\n",
       "      <td>62</td>\n",
       "      <td>62</td>\n",
       "      <td>62</td>\n",
       "      <td>62</td>\n",
       "      <td>62</td>\n",
       "      <td>62</td>\n",
       "      <td>62</td>\n",
       "      <td>62</td>\n",
       "      <td>62</td>\n",
       "      <td>62</td>\n",
       "      <td>62</td>\n",
       "      <td>62</td>\n",
       "    </tr>\n",
       "    <tr>\n",
       "      <th>4</th>\n",
       "      <td>60</td>\n",
       "      <td>60</td>\n",
       "      <td>60</td>\n",
       "      <td>60</td>\n",
       "      <td>60</td>\n",
       "      <td>60</td>\n",
       "      <td>60</td>\n",
       "      <td>60</td>\n",
       "      <td>60</td>\n",
       "      <td>60</td>\n",
       "      <td>60</td>\n",
       "      <td>60</td>\n",
       "    </tr>\n",
       "    <tr>\n",
       "      <th>5</th>\n",
       "      <td>62</td>\n",
       "      <td>62</td>\n",
       "      <td>62</td>\n",
       "      <td>62</td>\n",
       "      <td>62</td>\n",
       "      <td>62</td>\n",
       "      <td>62</td>\n",
       "      <td>62</td>\n",
       "      <td>62</td>\n",
       "      <td>62</td>\n",
       "      <td>62</td>\n",
       "      <td>62</td>\n",
       "    </tr>\n",
       "    <tr>\n",
       "      <th>6</th>\n",
       "      <td>60</td>\n",
       "      <td>60</td>\n",
       "      <td>60</td>\n",
       "      <td>60</td>\n",
       "      <td>60</td>\n",
       "      <td>60</td>\n",
       "      <td>60</td>\n",
       "      <td>60</td>\n",
       "      <td>60</td>\n",
       "      <td>60</td>\n",
       "      <td>60</td>\n",
       "      <td>60</td>\n",
       "    </tr>\n",
       "    <tr>\n",
       "      <th>7</th>\n",
       "      <td>62</td>\n",
       "      <td>62</td>\n",
       "      <td>62</td>\n",
       "      <td>62</td>\n",
       "      <td>62</td>\n",
       "      <td>62</td>\n",
       "      <td>62</td>\n",
       "      <td>62</td>\n",
       "      <td>62</td>\n",
       "      <td>62</td>\n",
       "      <td>62</td>\n",
       "      <td>62</td>\n",
       "    </tr>\n",
       "    <tr>\n",
       "      <th>8</th>\n",
       "      <td>62</td>\n",
       "      <td>62</td>\n",
       "      <td>62</td>\n",
       "      <td>62</td>\n",
       "      <td>62</td>\n",
       "      <td>62</td>\n",
       "      <td>62</td>\n",
       "      <td>62</td>\n",
       "      <td>62</td>\n",
       "      <td>62</td>\n",
       "      <td>62</td>\n",
       "      <td>62</td>\n",
       "    </tr>\n",
       "    <tr>\n",
       "      <th>9</th>\n",
       "      <td>60</td>\n",
       "      <td>60</td>\n",
       "      <td>60</td>\n",
       "      <td>60</td>\n",
       "      <td>60</td>\n",
       "      <td>60</td>\n",
       "      <td>60</td>\n",
       "      <td>60</td>\n",
       "      <td>60</td>\n",
       "      <td>60</td>\n",
       "      <td>60</td>\n",
       "      <td>60</td>\n",
       "    </tr>\n",
       "    <tr>\n",
       "      <th>10</th>\n",
       "      <td>62</td>\n",
       "      <td>62</td>\n",
       "      <td>62</td>\n",
       "      <td>62</td>\n",
       "      <td>62</td>\n",
       "      <td>62</td>\n",
       "      <td>62</td>\n",
       "      <td>62</td>\n",
       "      <td>62</td>\n",
       "      <td>62</td>\n",
       "      <td>62</td>\n",
       "      <td>62</td>\n",
       "    </tr>\n",
       "    <tr>\n",
       "      <th>11</th>\n",
       "      <td>60</td>\n",
       "      <td>60</td>\n",
       "      <td>60</td>\n",
       "      <td>60</td>\n",
       "      <td>60</td>\n",
       "      <td>60</td>\n",
       "      <td>60</td>\n",
       "      <td>60</td>\n",
       "      <td>60</td>\n",
       "      <td>60</td>\n",
       "      <td>60</td>\n",
       "      <td>60</td>\n",
       "    </tr>\n",
       "    <tr>\n",
       "      <th>12</th>\n",
       "      <td>62</td>\n",
       "      <td>62</td>\n",
       "      <td>62</td>\n",
       "      <td>62</td>\n",
       "      <td>62</td>\n",
       "      <td>62</td>\n",
       "      <td>62</td>\n",
       "      <td>62</td>\n",
       "      <td>62</td>\n",
       "      <td>62</td>\n",
       "      <td>62</td>\n",
       "      <td>62</td>\n",
       "    </tr>\n",
       "  </tbody>\n",
       "</table>\n",
       "</div>"
      ],
      "text/plain": [
       "      instant  dteday  season  yr  holiday  weekday  workingday  weathersit  \\\n",
       "mnth                                                                          \n",
       "1          62      62      62  62       62       62          62          62   \n",
       "2          57      57      57  57       57       57          57          57   \n",
       "3          62      62      62  62       62       62          62          62   \n",
       "4          60      60      60  60       60       60          60          60   \n",
       "5          62      62      62  62       62       62          62          62   \n",
       "6          60      60      60  60       60       60          60          60   \n",
       "7          62      62      62  62       62       62          62          62   \n",
       "8          62      62      62  62       62       62          62          62   \n",
       "9          60      60      60  60       60       60          60          60   \n",
       "10         62      62      62  62       62       62          62          62   \n",
       "11         60      60      60  60       60       60          60          60   \n",
       "12         62      62      62  62       62       62          62          62   \n",
       "\n",
       "      temp  hum  windspeed  cnt  \n",
       "mnth                             \n",
       "1       62   62         62   62  \n",
       "2       57   57         57   57  \n",
       "3       62   62         62   62  \n",
       "4       60   60         60   60  \n",
       "5       62   62         62   62  \n",
       "6       60   60         60   60  \n",
       "7       62   62         62   62  \n",
       "8       62   62         62   62  \n",
       "9       60   60         60   60  \n",
       "10      62   62         62   62  \n",
       "11      60   60         60   60  \n",
       "12      62   62         62   62  "
      ]
     },
     "execution_count": 24,
     "metadata": {},
     "output_type": "execute_result"
    }
   ],
   "source": [
    "bike.groupby('mnth').agg('count')"
   ]
  },
  {
   "cell_type": "code",
   "execution_count": 25,
   "metadata": {},
   "outputs": [],
   "source": [
    "col = bike.columns\n",
    "col = col.tolist()\n",
    "indices = [9,10,11,12]\n",
    "col = [col[index] for index in indices]"
   ]
  },
  {
   "cell_type": "code",
   "execution_count": 26,
   "metadata": {},
   "outputs": [
    {
     "data": {
      "image/png": "[encoded data removed]",
      "text/plain": [
       "<Figure size 1080x1296 with 4 Axes>"
      ]
     },
     "metadata": {},
     "output_type": "display_data"
    }
   ],
   "source": [
    "# Density plot and histogram\n",
    "plt.style.use('ggplot')\n",
    "fig, axes = plt.subplots(2,2,figsize=(15,18))\n",
    "for i in col:\n",
    "    index = col.index(i)\n",
    "    x = int(index/2)\n",
    "    y = index%2\n",
    "    sns.histplot(ax = axes[x,y],x=bike[i],color='red',kde = True)\n",
    "    axes[x,y].set_xlabel(i)\n",
    "    plt.suptitle('Histograms for continuous variables', fontsize=16)\n",
    "fig.tight_layout()\n",
    "fig.subplots_adjust(top=0.96)\n",
    "plt.show()"
   ]
  },
  {
   "cell_type": "code",
   "execution_count": 27,
   "metadata": {},
   "outputs": [
    {
     "data": {
      "image/png": "[encoded data removed]",
      "text/plain": [
       "<Figure size 1080x1296 with 4 Axes>"
      ]
     },
     "metadata": {},
     "output_type": "display_data"
    }
   ],
   "source": [
    "# Boxplots\n",
    "plt.style.use('ggplot')\n",
    "fig, axes = plt.subplots(2,2,figsize=(15,18))\n",
    "\n",
    "p=sns.color_palette(\"cubehelix\", 14)\n",
    "for i in col:\n",
    "    index = col.index(i)\n",
    "    x = int(index/2)\n",
    "    y = index%2\n",
    "    sns.boxplot(ax = axes[x,y],data=bike[i],width=0.3,color=p[index])\n",
    "    axes[x,y].set_xlabel(i)\n",
    "    plt.suptitle('Boxplot for all variables', fontsize=16)\n",
    "fig.tight_layout()\n",
    "fig.subplots_adjust(top=0.96)\n",
    "plt.savefig('boxplots.jpg')"
   ]
  },
  {
   "cell_type": "code",
   "execution_count": 28,
   "metadata": {},
   "outputs": [
    {
     "data": {
      "image/png": "[encoded data removed]",
      "text/plain": [
       "<Figure size 432x288 with 1 Axes>"
      ]
     },
     "metadata": {},
     "output_type": "display_data"
    }
   ],
   "source": [
    "# Bar chart - holiday vs cnt\n",
    "bike_season = bike.groupby(\"holiday\")[\"cnt\"].mean()\n",
    "bike_season.plot.bar(color=['maroon', 'indigo'])\n",
    "plt.show()"
   ]
  },
  {
   "cell_type": "code",
   "execution_count": 29,
   "metadata": {},
   "outputs": [
    {
     "data": {
      "image/png": "[encoded data removed]",
      "text/plain": [
       "<Figure size 432x288 with 1 Axes>"
      ]
     },
     "metadata": {},
     "output_type": "display_data"
    }
   ],
   "source": [
    "# Bar chart - weekday vs cnt\n",
    "bike_season = bike.groupby(\"weekday\")[\"cnt\"].mean()\n",
    "bike_season.plot.bar(color=['red', 'green', 'blue', 'cyan', 'indigo', 'yellow', 'orange'])\n",
    "plt.show()"
   ]
  },
  {
   "cell_type": "code",
   "execution_count": 30,
   "metadata": {},
   "outputs": [
    {
     "data": {
      "image/png": "[encoded data removed]",
      "text/plain": [
       "<Figure size 432x288 with 1 Axes>"
      ]
     },
     "metadata": {},
     "output_type": "display_data"
    }
   ],
   "source": [
    "# Bar chart - workingday vs cnt\n",
    "bike_season = bike.groupby(\"workingday\")[\"cnt\"].mean()\n",
    "bike_season.plot.bar(color=['maroon', 'indigo'])\n",
    "plt.show()"
   ]
  },
  {
   "cell_type": "code",
   "execution_count": 31,
   "metadata": {},
   "outputs": [
    {
     "data": {
      "image/png": "[encoded data removed]",
      "text/plain": [
       "<Figure size 432x288 with 1 Axes>"
      ]
     },
     "metadata": {},
     "output_type": "display_data"
    }
   ],
   "source": [
    "# Bar chart - weathersit vs cnt\n",
    "bike_season = bike.groupby(\"weathersit\")[\"cnt\"].mean()\n",
    "bike_season.plot.bar(color=['maroon', 'indigo', 'navy'])\n",
    "plt.show()"
   ]
  },
  {
   "cell_type": "code",
   "execution_count": 32,
   "metadata": {},
   "outputs": [
    {
     "data": {
      "image/png": "[encoded data removed]",
      "text/plain": [
       "<Figure size 1080x720 with 1 Axes>"
      ]
     },
     "metadata": {},
     "output_type": "display_data"
    }
   ],
   "source": [
    "# Time series plot\n",
    "f = plt.figure()\n",
    "f.set_figwidth(15)\n",
    "f.set_figheight(10)\n",
    "plt.title('Time Series plot')\n",
    "plt.xlabel('Instant')\n",
    "plt.ylabel('Count')\n",
    "f = bike['cnt'].plot()\n",
    "plt.show()"
   ]
  },
  {
   "cell_type": "code",
   "execution_count": 33,
   "metadata": {},
   "outputs": [
    {
     "data": {
      "image/png": "[encoded data removed]",
      "text/plain": [
       "<Figure size 576x576 with 2 Axes>"
      ]
     },
     "metadata": {},
     "output_type": "display_data"
    }
   ],
   "source": [
    "# Correlation matrix - continuous variables\n",
    "plt.figure(figsize = (8,8))\n",
    "correlation_matrix = bike.corr().round(2)\n",
    "# annot = True to print the values inside the square\n",
    "sns.heatmap(data=correlation_matrix, annot=True)\n",
    "plt.show()"
   ]
  },
  {
   "cell_type": "code",
   "execution_count": 34,
   "metadata": {},
   "outputs": [],
   "source": [
    "# Split data into train and test\n",
    "from sklearn.model_selection import train_test_split\n",
    "import random\n",
    "random.seed(100)\n",
    "\n",
    "# For statmodels smf function (explained in Model Building section)\n",
    "num = list(range(len(bike)))\n",
    "ran = sample(num, int(len(num)*0.7))\n",
    "rem = [i for i in num if i not in ran] \n",
    "\n",
    "bike_train = bike.iloc[ran, :]\n",
    "bike_test = bike.iloc[rem, :]\n",
    "\n",
    "# For sklearn LinearRegression function \n",
    "\n",
    "X_train = bike_train.iloc[:,:-1]\n",
    "X_train = X_train.drop(columns=['dteday'])\n",
    "y_train = bike_train.iloc[:,-1:]\n",
    "\n",
    "X_test = bike_test.iloc[:,:-1]\n",
    "X_test = X_test.drop(columns=['dteday'])\n",
    "y_test = bike_test.iloc[:,-1:]\n",
    "\n",
    "# Create one-hot encoding\n",
    "X_train_d = pd.get_dummies(X_train)\n",
    "X_test_d = pd.get_dummies(X_test)\n",
    "y_train_d = pd.get_dummies(y_train)\n",
    "y_test_d = pd.get_dummies(y_test)"
   ]
  },
  {
   "cell_type": "code",
   "execution_count": 35,
   "metadata": {},
   "outputs": [
    {
     "data": {
      "text/html": [
       "<table class=\"simpletable\">\n",
       "<caption>OLS Regression Results</caption>\n",
       "<tr>\n",
       "  <th>Dep. Variable:</th>           <td>cnt</td>       <th>  R-squared:         </th> <td>   0.845</td> \n",
       "</tr>\n",
       "<tr>\n",
       "  <th>Model:</th>                   <td>OLS</td>       <th>  Adj. R-squared:    </th> <td>   0.836</td> \n",
       "</tr>\n",
       "<tr>\n",
       "  <th>Method:</th>             <td>Least Squares</td>  <th>  F-statistic:       </th> <td>   94.00</td> \n",
       "</tr>\n",
       "<tr>\n",
       "  <th>Date:</th>             <td>Sat, 07 Aug 2021</td> <th>  Prob (F-statistic):</th> <td>1.31e-175</td>\n",
       "</tr>\n",
       "<tr>\n",
       "  <th>Time:</th>                 <td>20:08:12</td>     <th>  Log-Likelihood:    </th> <td> -4114.7</td> \n",
       "</tr>\n",
       "<tr>\n",
       "  <th>No. Observations:</th>      <td>   511</td>      <th>  AIC:               </th> <td>   8287.</td> \n",
       "</tr>\n",
       "<tr>\n",
       "  <th>Df Residuals:</th>          <td>   482</td>      <th>  BIC:               </th> <td>   8410.</td> \n",
       "</tr>\n",
       "<tr>\n",
       "  <th>Df Model:</th>              <td>    28</td>      <th>                     </th>     <td> </td>    \n",
       "</tr>\n",
       "<tr>\n",
       "  <th>Covariance Type:</th>      <td>nonrobust</td>    <th>                     </th>     <td> </td>    \n",
       "</tr>\n",
       "</table>\n",
       "<table class=\"simpletable\">\n",
       "<tr>\n",
       "         <td></td>            <th>coef</th>     <th>std err</th>      <th>t</th>      <th>P>|t|</th>  <th>[0.025</th>    <th>0.975]</th>  \n",
       "</tr>\n",
       "<tr>\n",
       "  <th>Intercept</th>       <td> 1680.2719</td> <td>  285.107</td> <td>    5.893</td> <td> 0.000</td> <td> 1120.066</td> <td> 2240.478</td>\n",
       "</tr>\n",
       "<tr>\n",
       "  <th>yr[T.1]</th>         <td> 5146.5513</td> <td> 1450.304</td> <td>    3.549</td> <td> 0.000</td> <td> 2296.852</td> <td> 7996.251</td>\n",
       "</tr>\n",
       "<tr>\n",
       "  <th>mnth[T.2]</th>       <td>  449.5447</td> <td>  210.486</td> <td>    2.136</td> <td> 0.033</td> <td>   35.962</td> <td>  863.127</td>\n",
       "</tr>\n",
       "<tr>\n",
       "  <th>mnth[T.3]</th>       <td> 1056.5999</td> <td>  322.397</td> <td>    3.277</td> <td> 0.001</td> <td>  423.122</td> <td> 1690.078</td>\n",
       "</tr>\n",
       "<tr>\n",
       "  <th>mnth[T.4]</th>       <td> 1422.2659</td> <td>  463.030</td> <td>    3.072</td> <td> 0.002</td> <td>  512.460</td> <td> 2332.072</td>\n",
       "</tr>\n",
       "<tr>\n",
       "  <th>mnth[T.5]</th>       <td> 1930.2542</td> <td>  574.055</td> <td>    3.362</td> <td> 0.001</td> <td>  802.295</td> <td> 3058.214</td>\n",
       "</tr>\n",
       "<tr>\n",
       "  <th>mnth[T.6]</th>       <td> 1830.7950</td> <td>  684.508</td> <td>    2.675</td> <td> 0.008</td> <td>  485.807</td> <td> 3175.783</td>\n",
       "</tr>\n",
       "<tr>\n",
       "  <th>mnth[T.7]</th>       <td> 1879.3613</td> <td>  805.640</td> <td>    2.333</td> <td> 0.020</td> <td>  296.360</td> <td> 3462.363</td>\n",
       "</tr>\n",
       "<tr>\n",
       "  <th>mnth[T.8]</th>       <td> 2495.1228</td> <td>  911.477</td> <td>    2.737</td> <td> 0.006</td> <td>  704.163</td> <td> 4286.082</td>\n",
       "</tr>\n",
       "<tr>\n",
       "  <th>mnth[T.9]</th>       <td> 3237.4467</td> <td> 1002.238</td> <td>    3.230</td> <td> 0.001</td> <td> 1268.152</td> <td> 5206.742</td>\n",
       "</tr>\n",
       "<tr>\n",
       "  <th>mnth[T.10]</th>      <td> 3131.3822</td> <td> 1122.964</td> <td>    2.788</td> <td> 0.006</td> <td>  924.873</td> <td> 5337.892</td>\n",
       "</tr>\n",
       "<tr>\n",
       "  <th>mnth[T.11]</th>      <td> 2702.7316</td> <td> 1235.602</td> <td>    2.187</td> <td> 0.029</td> <td>  274.900</td> <td> 5130.563</td>\n",
       "</tr>\n",
       "<tr>\n",
       "  <th>mnth[T.12]</th>      <td> 2934.9504</td> <td> 1345.885</td> <td>    2.181</td> <td> 0.030</td> <td>  290.424</td> <td> 5579.477</td>\n",
       "</tr>\n",
       "<tr>\n",
       "  <th>season[T.2]</th>     <td>  797.6485</td> <td>  216.879</td> <td>    3.678</td> <td> 0.000</td> <td>  371.503</td> <td> 1223.794</td>\n",
       "</tr>\n",
       "<tr>\n",
       "  <th>season[T.3]</th>     <td>  672.9092</td> <td>  255.155</td> <td>    2.637</td> <td> 0.009</td> <td>  171.555</td> <td> 1174.263</td>\n",
       "</tr>\n",
       "<tr>\n",
       "  <th>season[T.4]</th>     <td> 1407.9020</td> <td>  220.675</td> <td>    6.380</td> <td> 0.000</td> <td>  974.297</td> <td> 1841.507</td>\n",
       "</tr>\n",
       "<tr>\n",
       "  <th>holiday[T.1]</th>    <td> -183.0060</td> <td>  201.895</td> <td>   -0.906</td> <td> 0.365</td> <td> -579.710</td> <td>  213.698</td>\n",
       "</tr>\n",
       "<tr>\n",
       "  <th>weekday[T.1]</th>    <td> -136.2629</td> <td>   86.884</td> <td>   -1.568</td> <td> 0.117</td> <td> -306.981</td> <td>   34.455</td>\n",
       "</tr>\n",
       "<tr>\n",
       "  <th>weekday[T.2]</th>    <td>    8.6272</td> <td>   96.698</td> <td>    0.089</td> <td> 0.929</td> <td> -181.375</td> <td>  198.629</td>\n",
       "</tr>\n",
       "<tr>\n",
       "  <th>weekday[T.3]</th>    <td>   57.0697</td> <td>   95.756</td> <td>    0.596</td> <td> 0.551</td> <td> -131.081</td> <td>  245.220</td>\n",
       "</tr>\n",
       "<tr>\n",
       "  <th>weekday[T.4]</th>    <td>   92.2103</td> <td>   96.555</td> <td>    0.955</td> <td> 0.340</td> <td>  -97.511</td> <td>  281.931</td>\n",
       "</tr>\n",
       "<tr>\n",
       "  <th>weekday[T.5]</th>    <td>  128.1622</td> <td>   94.187</td> <td>    1.361</td> <td> 0.174</td> <td>  -56.906</td> <td>  313.230</td>\n",
       "</tr>\n",
       "<tr>\n",
       "  <th>weekday[T.6]</th>    <td>  335.0622</td> <td>  129.763</td> <td>    2.582</td> <td> 0.010</td> <td>   80.092</td> <td>  590.032</td>\n",
       "</tr>\n",
       "<tr>\n",
       "  <th>workingday[T.1]</th> <td>  332.8126</td> <td>   83.483</td> <td>    3.987</td> <td> 0.000</td> <td>  168.776</td> <td>  496.849</td>\n",
       "</tr>\n",
       "<tr>\n",
       "  <th>weathersit[T.2]</th> <td> -506.1311</td> <td>   95.123</td> <td>   -5.321</td> <td> 0.000</td> <td> -693.038</td> <td> -319.225</td>\n",
       "</tr>\n",
       "<tr>\n",
       "  <th>weathersit[T.3]</th> <td>-1975.9529</td> <td>  250.828</td> <td>   -7.878</td> <td> 0.000</td> <td>-2468.805</td> <td>-1483.101</td>\n",
       "</tr>\n",
       "<tr>\n",
       "  <th>instant</th>         <td>   -8.5581</td> <td>    3.957</td> <td>   -2.163</td> <td> 0.031</td> <td>  -16.332</td> <td>   -0.784</td>\n",
       "</tr>\n",
       "<tr>\n",
       "  <th>temp</th>            <td> 4379.0528</td> <td>  497.572</td> <td>    8.801</td> <td> 0.000</td> <td> 3401.375</td> <td> 5356.731</td>\n",
       "</tr>\n",
       "<tr>\n",
       "  <th>hum</th>             <td>-1419.2015</td> <td>  343.783</td> <td>   -4.128</td> <td> 0.000</td> <td>-2094.699</td> <td> -743.704</td>\n",
       "</tr>\n",
       "<tr>\n",
       "  <th>windspeed</th>       <td>-3208.4567</td> <td>  487.833</td> <td>   -6.577</td> <td> 0.000</td> <td>-4166.998</td> <td>-2249.915</td>\n",
       "</tr>\n",
       "</table>\n",
       "<table class=\"simpletable\">\n",
       "<tr>\n",
       "  <th>Omnibus:</th>       <td>98.918</td> <th>  Durbin-Watson:     </th> <td>   2.073</td>\n",
       "</tr>\n",
       "<tr>\n",
       "  <th>Prob(Omnibus):</th> <td> 0.000</td> <th>  Jarque-Bera (JB):  </th> <td> 267.249</td>\n",
       "</tr>\n",
       "<tr>\n",
       "  <th>Skew:</th>          <td>-0.947</td> <th>  Prob(JB):          </th> <td>9.28e-59</td>\n",
       "</tr>\n",
       "<tr>\n",
       "  <th>Kurtosis:</th>      <td> 5.994</td> <th>  Cond. No.          </th> <td>1.16e+16</td>\n",
       "</tr>\n",
       "</table><br/><br/>Notes:<br/>[1] Standard Errors assume that the covariance matrix of the errors is correctly specified.<br/>[2] The smallest eigenvalue is 6.78e-25. This might indicate that there are<br/>strong multicollinearity problems or that the design matrix is singular."
      ],
      "text/plain": [
       "<class 'statsmodels.iolib.summary.Summary'>\n",
       "\"\"\"\n",
       "                            OLS Regression Results                            \n",
       "==============================================================================\n",
       "Dep. Variable:                    cnt   R-squared:                       0.845\n",
       "Model:                            OLS   Adj. R-squared:                  0.836\n",
       "Method:                 Least Squares   F-statistic:                     94.00\n",
       "Date:                Sat, 07 Aug 2021   Prob (F-statistic):          1.31e-175\n",
       "Time:                        20:08:12   Log-Likelihood:                -4114.7\n",
       "No. Observations:                 511   AIC:                             8287.\n",
       "Df Residuals:                     482   BIC:                             8410.\n",
       "Df Model:                          28                                         \n",
       "Covariance Type:            nonrobust                                         \n",
       "===================================================================================\n",
       "                      coef    std err          t      P>|t|      [0.025      0.975]\n",
       "-----------------------------------------------------------------------------------\n",
       "Intercept        1680.2719    285.107      5.893      0.000    1120.066    2240.478\n",
       "yr[T.1]          5146.5513   1450.304      3.549      0.000    2296.852    7996.251\n",
       "mnth[T.2]         449.5447    210.486      2.136      0.033      35.962     863.127\n",
       "mnth[T.3]        1056.5999    322.397      3.277      0.001     423.122    1690.078\n",
       "mnth[T.4]        1422.2659    463.030      3.072      0.002     512.460    2332.072\n",
       "mnth[T.5]        1930.2542    574.055      3.362      0.001     802.295    3058.214\n",
       "mnth[T.6]        1830.7950    684.508      2.675      0.008     485.807    3175.783\n",
       "mnth[T.7]        1879.3613    805.640      2.333      0.020     296.360    3462.363\n",
       "mnth[T.8]        2495.1228    911.477      2.737      0.006     704.163    4286.082\n",
       "mnth[T.9]        3237.4467   1002.238      3.230      0.001    1268.152    5206.742\n",
       "mnth[T.10]       3131.3822   1122.964      2.788      0.006     924.873    5337.892\n",
       "mnth[T.11]       2702.7316   1235.602      2.187      0.029     274.900    5130.563\n",
       "mnth[T.12]       2934.9504   1345.885      2.181      0.030     290.424    5579.477\n",
       "season[T.2]       797.6485    216.879      3.678      0.000     371.503    1223.794\n",
       "season[T.3]       672.9092    255.155      2.637      0.009     171.555    1174.263\n",
       "season[T.4]      1407.9020    220.675      6.380      0.000     974.297    1841.507\n",
       "holiday[T.1]     -183.0060    201.895     -0.906      0.365    -579.710     213.698\n",
       "weekday[T.1]     -136.2629     86.884     -1.568      0.117    -306.981      34.455\n",
       "weekday[T.2]        8.6272     96.698      0.089      0.929    -181.375     198.629\n",
       "weekday[T.3]       57.0697     95.756      0.596      0.551    -131.081     245.220\n",
       "weekday[T.4]       92.2103     96.555      0.955      0.340     -97.511     281.931\n",
       "weekday[T.5]      128.1622     94.187      1.361      0.174     -56.906     313.230\n",
       "weekday[T.6]      335.0622    129.763      2.582      0.010      80.092     590.032\n",
       "workingday[T.1]   332.8126     83.483      3.987      0.000     168.776     496.849\n",
       "weathersit[T.2]  -506.1311     95.123     -5.321      0.000    -693.038    -319.225\n",
       "weathersit[T.3] -1975.9529    250.828     -7.878      0.000   -2468.805   -1483.101\n",
       "instant            -8.5581      3.957     -2.163      0.031     -16.332      -0.784\n",
       "temp             4379.0528    497.572      8.801      0.000    3401.375    5356.731\n",
       "hum             -1419.2015    343.783     -4.128      0.000   -2094.699    -743.704\n",
       "windspeed       -3208.4567    487.833     -6.577      0.000   -4166.998   -2249.915\n",
       "==============================================================================\n",
       "Omnibus:                       98.918   Durbin-Watson:                   2.073\n",
       "Prob(Omnibus):                  0.000   Jarque-Bera (JB):              267.249\n",
       "Skew:                          -0.947   Prob(JB):                     9.28e-59\n",
       "Kurtosis:                       5.994   Cond. No.                     1.16e+16\n",
       "==============================================================================\n",
       "\n",
       "Notes:\n",
       "[1] Standard Errors assume that the covariance matrix of the errors is correctly specified.\n",
       "[2] The smallest eigenvalue is 6.78e-25. This might indicate that there are\n",
       "strong multicollinearity problems or that the design matrix is singular.\n",
       "\"\"\""
      ]
     },
     "execution_count": 35,
     "metadata": {},
     "output_type": "execute_result"
    }
   ],
   "source": [
    "# Linear Regression model building\n",
    "import statsmodels.formula.api as smf\n",
    "import statsmodels.api as sm\n",
    "\n",
    "model_l = smf.ols(formula='cnt ~ yr + mnth + instant + season + holiday + weekday + workingday + weathersit + temp + hum + windspeed', data = bike_train).fit()\n",
    "model_l.summary()"
   ]
  },
  {
   "cell_type": "code",
   "execution_count": 36,
   "metadata": {},
   "outputs": [
    {
     "data": {
      "text/plain": [
       "759.9637735329194"
      ]
     },
     "execution_count": 36,
     "metadata": {},
     "output_type": "execute_result"
    }
   ],
   "source": [
    "# Prediction and RMSE\n",
    "pred = model_l.predict(bike_train)\n",
    "\n",
    "error = bike_train['cnt'] - pred \n",
    "RMSE = np.sqrt((error*error).mean())\n",
    "RMSE"
   ]
  },
  {
   "cell_type": "code",
   "execution_count": 37,
   "metadata": {},
   "outputs": [
    {
     "data": {
      "text/plain": [
       "752.5891028995725"
      ]
     },
     "execution_count": 37,
     "metadata": {},
     "output_type": "execute_result"
    }
   ],
   "source": [
    "# Out-of-sample RMSE\n",
    "pred = model_l.predict(bike_test)\n",
    "\n",
    "error = bike_test['cnt'] - pred \n",
    "RMSE = np.sqrt((error*error).mean())\n",
    "RMSE"
   ]
  },
  {
   "cell_type": "code",
   "execution_count": 39,
   "metadata": {},
   "outputs": [
    {
     "name": "stderr",
     "output_type": "stream",
     "text": [
      "<ipython-input-39-ac67e1ebde04>:25: TqdmDeprecationWarning: Please use `tqdm.notebook.trange` instead of `tqdm.tnrange`\n",
      "  for k in tnrange(1,len(X.columns) + 1, desc = 'Loop...'):\n"
     ]
    },
    {
     "data": {
      "application/vnd.jupyter.widget-view+json": {
       "model_id": "9dae89f971874e5b883df8e8edc74bf7",
       "version_major": 2,
       "version_minor": 0
      },
      "text/plain": [
       "HBox(children=(HTML(value='Loop...'), FloatProgress(value=0.0, max=11.0), HTML(value='')))"
      ]
     },
     "metadata": {},
     "output_type": "display_data"
    },
    {
     "name": "stdout",
     "output_type": "stream",
     "text": [
      "\n"
     ]
    }
   ],
   "source": [
    "# Subset selection\n",
    "\n",
    "def fit_linear_reg(X,Y):\n",
    "    #Fit linear regression model and return RSS and R squared values\n",
    "    model_k = LinearRegression(fit_intercept = True)\n",
    "    model_k.fit(X,Y)\n",
    "    RSS = mean_squared_error(Y, model_k.predict(X))*len(Y)\n",
    "    #R_squared = model_k.score(X,Y)\n",
    "    R_squared = 1 - (1-model_k.score(X, Y))*(len(Y)-1)/(len(Y)-X.shape[1]-1)\n",
    "    return RSS, R_squared\n",
    "\n",
    "#Implementing Best subset selection (using itertools.combinations)¶\n",
    "#Importing tqdm for the progress bar\n",
    "from tqdm import tnrange, tqdm_notebook\n",
    "import itertools \n",
    "\n",
    "#Initialization variables\n",
    "Y = y_train['cnt']\n",
    "X = X_train\n",
    "k = len(y_train.columns) + 1\n",
    "RSS_list, R_squared_list, feature_list = [],[],[]\n",
    "numb_features = []\n",
    "\n",
    "#Looping over k features in X\n",
    "for k in tnrange(1,len(X.columns) + 1, desc = 'Loop...'):\n",
    "\n",
    "    #Looping over all possible combinations: from 11 choose k\n",
    "    for combo in itertools.combinations(X.columns,k):\n",
    "        tmp_result = fit_linear_reg(X[list(combo)],Y)   #Store temp result \n",
    "        RSS_list.append(tmp_result[0])                  #Append lists\n",
    "        R_squared_list.append(tmp_result[1])\n",
    "        feature_list.append(combo)\n",
    "        numb_features.append(len(combo))   \n",
    "\n",
    "#Store in DataFrame\n",
    "df_f = pd.DataFrame({'numb_features': numb_features,'RSS': RSS_list, \n",
    "                   'Adj_R_squared':R_squared_list,'features':feature_list})   \n",
    "\n",
    "#Finding the best subsets for each number of features\n",
    "#Using the smallest RSS value, or the largest R_squared value\n",
    "\n",
    "df_min = df_f[df_f.groupby('numb_features')['RSS'].transform(min) == df_f['RSS']]\n",
    "df_max = df_f[df_f.groupby('numb_features')['Adj_R_squared'].transform(max) == df_f['Adj_R_squared']]"
   ]
  },
  {
   "cell_type": "code",
   "execution_count": 41,
   "metadata": {},
   "outputs": [
    {
     "data": {
      "text/html": [
       "<div>\n",
       "<style scoped>\n",
       "    .dataframe tbody tr th:only-of-type {\n",
       "        vertical-align: middle;\n",
       "    }\n",
       "\n",
       "    .dataframe tbody tr th {\n",
       "        vertical-align: top;\n",
       "    }\n",
       "\n",
       "    .dataframe thead th {\n",
       "        text-align: right;\n",
       "    }\n",
       "</style>\n",
       "<table border=\"1\" class=\"dataframe\">\n",
       "  <thead>\n",
       "    <tr style=\"text-align: right;\">\n",
       "      <th></th>\n",
       "      <th>numb_features</th>\n",
       "      <th>RSS</th>\n",
       "      <th>Adj_R_squared</th>\n",
       "      <th>features</th>\n",
       "    </tr>\n",
       "  </thead>\n",
       "  <tbody>\n",
       "    <tr>\n",
       "      <th>8</th>\n",
       "      <td>1</td>\n",
       "      <td>1.153892e+09</td>\n",
       "      <td>0.393608</td>\n",
       "      <td>(temp,)</td>\n",
       "    </tr>\n",
       "    <tr>\n",
       "      <th>18</th>\n",
       "      <td>2</td>\n",
       "      <td>6.044742e+08</td>\n",
       "      <td>0.681712</td>\n",
       "      <td>(instant, temp)</td>\n",
       "    </tr>\n",
       "    <tr>\n",
       "      <th>105</th>\n",
       "      <td>3</td>\n",
       "      <td>5.180639e+08</td>\n",
       "      <td>0.726674</td>\n",
       "      <td>(instant, weathersit, temp)</td>\n",
       "    </tr>\n",
       "    <tr>\n",
       "      <th>373</th>\n",
       "      <td>4</td>\n",
       "      <td>4.361145e+08</td>\n",
       "      <td>0.769455</td>\n",
       "      <td>(season, yr, weathersit, temp)</td>\n",
       "    </tr>\n",
       "    <tr>\n",
       "      <th>824</th>\n",
       "      <td>5</td>\n",
       "      <td>4.129912e+08</td>\n",
       "      <td>0.781246</td>\n",
       "      <td>(season, yr, weathersit, temp, windspeed)</td>\n",
       "    </tr>\n",
       "    <tr>\n",
       "      <th>1344</th>\n",
       "      <td>6</td>\n",
       "      <td>4.045329e+08</td>\n",
       "      <td>0.785301</td>\n",
       "      <td>(season, yr, weathersit, temp, hum, windspeed)</td>\n",
       "    </tr>\n",
       "    <tr>\n",
       "      <th>1749</th>\n",
       "      <td>7</td>\n",
       "      <td>3.984122e+08</td>\n",
       "      <td>0.788129</td>\n",
       "      <td>(season, yr, weekday, weathersit, temp, hum, w...</td>\n",
       "    </tr>\n",
       "    <tr>\n",
       "      <th>1962</th>\n",
       "      <td>8</td>\n",
       "      <td>3.929248e+08</td>\n",
       "      <td>0.790631</td>\n",
       "      <td>(season, yr, weekday, workingday, weathersit, ...</td>\n",
       "    </tr>\n",
       "    <tr>\n",
       "      <th>2007</th>\n",
       "      <td>9</td>\n",
       "      <td>3.898543e+08</td>\n",
       "      <td>0.791853</td>\n",
       "      <td>(instant, season, yr, weekday, workingday, wea...</td>\n",
       "    </tr>\n",
       "    <tr>\n",
       "      <th>2041</th>\n",
       "      <td>10</td>\n",
       "      <td>3.852580e+08</td>\n",
       "      <td>0.793895</td>\n",
       "      <td>(instant, season, yr, mnth, weekday, workingda...</td>\n",
       "    </tr>\n",
       "    <tr>\n",
       "      <th>2046</th>\n",
       "      <td>11</td>\n",
       "      <td>3.829677e+08</td>\n",
       "      <td>0.794710</td>\n",
       "      <td>(instant, season, yr, mnth, holiday, weekday, ...</td>\n",
       "    </tr>\n",
       "  </tbody>\n",
       "</table>\n",
       "</div>"
      ],
      "text/plain": [
       "      numb_features           RSS  Adj_R_squared  \\\n",
       "8                 1  1.153892e+09       0.393608   \n",
       "18                2  6.044742e+08       0.681712   \n",
       "105               3  5.180639e+08       0.726674   \n",
       "373               4  4.361145e+08       0.769455   \n",
       "824               5  4.129912e+08       0.781246   \n",
       "1344              6  4.045329e+08       0.785301   \n",
       "1749              7  3.984122e+08       0.788129   \n",
       "1962              8  3.929248e+08       0.790631   \n",
       "2007              9  3.898543e+08       0.791853   \n",
       "2041             10  3.852580e+08       0.793895   \n",
       "2046             11  3.829677e+08       0.794710   \n",
       "\n",
       "                                               features  \n",
       "8                                               (temp,)  \n",
       "18                                      (instant, temp)  \n",
       "105                         (instant, weathersit, temp)  \n",
       "373                      (season, yr, weathersit, temp)  \n",
       "824           (season, yr, weathersit, temp, windspeed)  \n",
       "1344     (season, yr, weathersit, temp, hum, windspeed)  \n",
       "1749  (season, yr, weekday, weathersit, temp, hum, w...  \n",
       "1962  (season, yr, weekday, workingday, weathersit, ...  \n",
       "2007  (instant, season, yr, weekday, workingday, wea...  \n",
       "2041  (instant, season, yr, mnth, weekday, workingda...  \n",
       "2046  (instant, season, yr, mnth, holiday, weekday, ...  "
      ]
     },
     "metadata": {},
     "output_type": "display_data"
    }
   ],
   "source": [
    "display(df_max)"
   ]
  },
  {
   "cell_type": "code",
   "execution_count": 42,
   "metadata": {},
   "outputs": [
    {
     "name": "stdout",
     "output_type": "stream",
     "text": [
      "The variable coefficients provided by the model are:\n"
     ]
    },
    {
     "name": "stderr",
     "output_type": "stream",
     "text": [
      "<ipython-input-42-4c145aade66b>:11: DeprecationWarning: The default dtype for empty Series will be 'object' instead of 'float64' in a future version. Specify a dtype explicitly to silence this warning.\n",
      "  forw_aic = pd.Series(index = remaining_features)\n",
      "<ipython-input-42-4c145aade66b>:26: DeprecationWarning: The default dtype for empty Series will be 'object' instead of 'float64' in a future version. Specify a dtype explicitly to silence this warning.\n",
      "  back_aic = pd.Series(index = best_features)\n",
      "<ipython-input-42-4c145aade66b>:27: DeprecationWarning: The default dtype for empty Series will be 'object' instead of 'float64' in a future version. Specify a dtype explicitly to silence this warning.\n",
      "  aic_diff = pd.Series(index = best_features)\n"
     ]
    },
    {
     "name": "stdout",
     "output_type": "stream",
     "text": [
      "['temp', 'instant', 'weathersit', 'yr', 'season', 'windspeed', 'weekday', 'hum', 'workingday', 'mnth', 'holiday']\n",
      "\n",
      "Final AIC value for the model is:\n",
      "8386.498943152177\n"
     ]
    }
   ],
   "source": [
    "#Alternate Function using the AIC values\n",
    "def stepwise_selection(data, target):\n",
    "    \n",
    "    initial_features = data.columns.tolist()\n",
    "    best_features = []\n",
    "    \n",
    "    aic = sm.OLS(target, sm.add_constant(data[best_features])).fit().aic\n",
    "    \n",
    "    while (len(initial_features) > 0):\n",
    "        remaining_features = list(set(initial_features) - set(best_features))\n",
    "        forw_aic = pd.Series(index = remaining_features)\n",
    "        \n",
    "        for new_column in remaining_features:\n",
    "            model = sm.OLS(target, sm.add_constant(data[best_features+[new_column]])).fit()\n",
    "            forw_aic[new_column] = model.aic\n",
    "        min_aic = forw_aic.min()\n",
    "        \n",
    "        if(min_aic < aic):\n",
    "            aic = min_aic\n",
    "            best_features.append(forw_aic.idxmin())\n",
    "\n",
    "            while (True):\n",
    "                \n",
    "                aic = sm.OLS(target, sm.add_constant(data[best_features])).fit().aic\n",
    "                \n",
    "                back_aic = pd.Series(index = best_features)\n",
    "                aic_diff = pd.Series(index = best_features)\n",
    "\n",
    "                for new_column in best_features:\n",
    "                    model = sm.OLS(target, sm.add_constant(data[list(set(best_features) - set([new_column]))])).fit()\n",
    "                    back_aic[new_column] = model.aic\n",
    "                    aic_diff[new_column] = aic - model.aic\n",
    "\n",
    "                max_aic = aic_diff.max()\n",
    "\n",
    "                if(max_aic > 0):\n",
    "                    best_features.remove(aic_diff.idxmax())\n",
    "                    aic = back_aic[aic_diff.idxmax()]\n",
    "                else:\n",
    "                    break\n",
    "                \n",
    "        else:\n",
    "            break\n",
    "    \n",
    "    final_AIC = sm.OLS(target, sm.add_constant(data[list(best_features)])).fit().aic\n",
    "           \n",
    "    return best_features, final_AIC\n",
    "\n",
    "print('The variable coefficients provided by the model are:')\n",
    "print(stepwise_selection(X_train, y_train)[0])\n",
    "print('\\nFinal AIC value for the model is:')\n",
    "print(stepwise_selection(X_train, y_train)[1])"
   ]
  },
  {
   "cell_type": "code",
   "execution_count": 43,
   "metadata": {},
   "outputs": [
    {
     "name": "stdout",
     "output_type": "stream",
     "text": [
      "The variable coefficients provided by the model are:\n"
     ]
    },
    {
     "name": "stderr",
     "output_type": "stream",
     "text": [
      "<ipython-input-43-115f825224e0>:11: DeprecationWarning: The default dtype for empty Series will be 'object' instead of 'float64' in a future version. Specify a dtype explicitly to silence this warning.\n",
      "  forw_bic = pd.Series(index = remaining_features)\n",
      "<ipython-input-43-115f825224e0>:26: DeprecationWarning: The default dtype for empty Series will be 'object' instead of 'float64' in a future version. Specify a dtype explicitly to silence this warning.\n",
      "  back_bic = pd.Series(index = best_features)\n",
      "<ipython-input-43-115f825224e0>:27: DeprecationWarning: The default dtype for empty Series will be 'object' instead of 'float64' in a future version. Specify a dtype explicitly to silence this warning.\n",
      "  bic_diff = pd.Series(index = best_features)\n"
     ]
    },
    {
     "name": "stdout",
     "output_type": "stream",
     "text": [
      "['temp', 'weathersit', 'yr', 'season', 'windspeed', 'hum', 'weekday', 'workingday']\n",
      "\n",
      "Final BIC value for the model is:\n",
      "8431.7425296577\n"
     ]
    }
   ],
   "source": [
    "#Alternate Function using the BIC values\n",
    "def stepwise_selection(data, target):\n",
    "    \n",
    "    initial_features = data.columns.tolist()\n",
    "    best_features = []\n",
    "    \n",
    "    bic = sm.OLS(target, sm.add_constant(data[best_features])).fit().bic\n",
    "    \n",
    "    while (len(initial_features) > 0):\n",
    "        remaining_features = list(set(initial_features) - set(best_features))\n",
    "        forw_bic = pd.Series(index = remaining_features)\n",
    "        \n",
    "        for new_column in remaining_features:\n",
    "            model = sm.OLS(target, sm.add_constant(data[best_features+[new_column]])).fit()\n",
    "            forw_bic[new_column] = model.bic\n",
    "        min_bic = forw_bic.min()\n",
    "        \n",
    "        if(min_bic < bic):\n",
    "            bic = min_bic\n",
    "            best_features.append(forw_bic.idxmin())\n",
    "\n",
    "            while (True):\n",
    "                \n",
    "                bic = sm.OLS(target, sm.add_constant(data[best_features])).fit().bic\n",
    "                \n",
    "                back_bic = pd.Series(index = best_features)\n",
    "                bic_diff = pd.Series(index = best_features)\n",
    "\n",
    "                for new_column in best_features:\n",
    "                    model = sm.OLS(target, sm.add_constant(data[list(set(best_features) - set([new_column]))])).fit()\n",
    "                    back_bic[new_column] = model.bic\n",
    "                    bic_diff[new_column] = bic - model.bic\n",
    "\n",
    "                max_bic = bic_diff.max()\n",
    "\n",
    "                if(max_bic > 0):\n",
    "                    best_features.remove(bic_diff.idxmax())\n",
    "                    bic = back_bic[bic_diff.idxmax()]\n",
    "                else:\n",
    "                    break\n",
    "                \n",
    "        else:\n",
    "            break\n",
    "    \n",
    "    final_BIC = sm.OLS(target, sm.add_constant(data[list(best_features)])).fit().bic\n",
    "           \n",
    "    return best_features, final_BIC\n",
    "\n",
    "print('The variable coefficients provided by the model are:')\n",
    "print(stepwise_selection(X_train, y_train)[0])\n",
    "print('\\nFinal BIC value for the model is:')\n",
    "print(stepwise_selection(X_train, y_train)[1])"
   ]
  },
  {
   "cell_type": "code",
   "execution_count": 27,
   "metadata": {},
   "outputs": [
    {
     "data": {
      "text/html": [
       "<table class=\"simpletable\">\n",
       "<caption>OLS Regression Results</caption>\n",
       "<tr>\n",
       "  <th>Dep. Variable:</th>           <td>cnt</td>       <th>  R-squared:         </th> <td>   0.759</td> \n",
       "</tr>\n",
       "<tr>\n",
       "  <th>Model:</th>                   <td>OLS</td>       <th>  Adj. R-squared:    </th> <td>   0.756</td> \n",
       "</tr>\n",
       "<tr>\n",
       "  <th>Method:</th>             <td>Least Squares</td>  <th>  F-statistic:       </th> <td>   226.8</td> \n",
       "</tr>\n",
       "<tr>\n",
       "  <th>Date:</th>             <td>Sat, 07 Aug 2021</td> <th>  Prob (F-statistic):</th> <td>3.78e-151</td>\n",
       "</tr>\n",
       "<tr>\n",
       "  <th>Time:</th>                 <td>01:17:28</td>     <th>  Log-Likelihood:    </th> <td> -4227.4</td> \n",
       "</tr>\n",
       "<tr>\n",
       "  <th>No. Observations:</th>      <td>   511</td>      <th>  AIC:               </th> <td>   8471.</td> \n",
       "</tr>\n",
       "<tr>\n",
       "  <th>Df Residuals:</th>          <td>   503</td>      <th>  BIC:               </th> <td>   8505.</td> \n",
       "</tr>\n",
       "<tr>\n",
       "  <th>Df Model:</th>              <td>     7</td>      <th>                     </th>     <td> </td>    \n",
       "</tr>\n",
       "<tr>\n",
       "  <th>Covariance Type:</th>      <td>nonrobust</td>    <th>                     </th>     <td> </td>    \n",
       "</tr>\n",
       "</table>\n",
       "<table class=\"simpletable\">\n",
       "<tr>\n",
       "         <td></td>            <th>coef</th>     <th>std err</th>      <th>t</th>      <th>P>|t|</th>  <th>[0.025</th>    <th>0.975]</th>  \n",
       "</tr>\n",
       "<tr>\n",
       "  <th>Intercept</th>       <td> 1632.7414</td> <td>  301.528</td> <td>    5.415</td> <td> 0.000</td> <td> 1040.333</td> <td> 2225.150</td>\n",
       "</tr>\n",
       "<tr>\n",
       "  <th>workingday[T.1]</th> <td>  232.9579</td> <td>   91.028</td> <td>    2.559</td> <td> 0.011</td> <td>   54.115</td> <td>  411.801</td>\n",
       "</tr>\n",
       "<tr>\n",
       "  <th>weathersit[T.2]</th> <td> -324.9899</td> <td>  112.099</td> <td>   -2.899</td> <td> 0.004</td> <td> -545.229</td> <td> -104.751</td>\n",
       "</tr>\n",
       "<tr>\n",
       "  <th>weathersit[T.3]</th> <td>-1866.6542</td> <td>  297.077</td> <td>   -6.283</td> <td> 0.000</td> <td>-2450.319</td> <td>-1282.990</td>\n",
       "</tr>\n",
       "<tr>\n",
       "  <th>instant</th>         <td>    4.8667</td> <td>    0.202</td> <td>   24.064</td> <td> 0.000</td> <td>    4.469</td> <td>    5.264</td>\n",
       "</tr>\n",
       "<tr>\n",
       "  <th>temp</th>            <td> 5482.6865</td> <td>  245.140</td> <td>   22.366</td> <td> 0.000</td> <td> 5001.062</td> <td> 5964.311</td>\n",
       "</tr>\n",
       "<tr>\n",
       "  <th>hum</th>             <td>-1621.8573</td> <td>  387.040</td> <td>   -4.190</td> <td> 0.000</td> <td>-2382.272</td> <td> -861.443</td>\n",
       "</tr>\n",
       "<tr>\n",
       "  <th>windspeed</th>       <td>-3217.8727</td> <td>  579.723</td> <td>   -5.551</td> <td> 0.000</td> <td>-4356.849</td> <td>-2078.896</td>\n",
       "</tr>\n",
       "</table>\n",
       "<table class=\"simpletable\">\n",
       "<tr>\n",
       "  <th>Omnibus:</th>       <td>48.249</td> <th>  Durbin-Watson:     </th> <td>   2.026</td>\n",
       "</tr>\n",
       "<tr>\n",
       "  <th>Prob(Omnibus):</th> <td> 0.000</td> <th>  Jarque-Bera (JB):  </th> <td>  82.572</td>\n",
       "</tr>\n",
       "<tr>\n",
       "  <th>Skew:</th>          <td>-0.611</td> <th>  Prob(JB):          </th> <td>1.17e-18</td>\n",
       "</tr>\n",
       "<tr>\n",
       "  <th>Kurtosis:</th>      <td> 4.544</td> <th>  Cond. No.          </th> <td>6.47e+03</td>\n",
       "</tr>\n",
       "</table><br/><br/>Notes:<br/>[1] Standard Errors assume that the covariance matrix of the errors is correctly specified.<br/>[2] The condition number is large, 6.47e+03. This might indicate that there are<br/>strong multicollinearity or other numerical problems."
      ],
      "text/plain": [
       "<class 'statsmodels.iolib.summary.Summary'>\n",
       "\"\"\"\n",
       "                            OLS Regression Results                            \n",
       "==============================================================================\n",
       "Dep. Variable:                    cnt   R-squared:                       0.759\n",
       "Model:                            OLS   Adj. R-squared:                  0.756\n",
       "Method:                 Least Squares   F-statistic:                     226.8\n",
       "Date:                Sat, 07 Aug 2021   Prob (F-statistic):          3.78e-151\n",
       "Time:                        01:17:28   Log-Likelihood:                -4227.4\n",
       "No. Observations:                 511   AIC:                             8471.\n",
       "Df Residuals:                     503   BIC:                             8505.\n",
       "Df Model:                           7                                         \n",
       "Covariance Type:            nonrobust                                         \n",
       "===================================================================================\n",
       "                      coef    std err          t      P>|t|      [0.025      0.975]\n",
       "-----------------------------------------------------------------------------------\n",
       "Intercept        1632.7414    301.528      5.415      0.000    1040.333    2225.150\n",
       "workingday[T.1]   232.9579     91.028      2.559      0.011      54.115     411.801\n",
       "weathersit[T.2]  -324.9899    112.099     -2.899      0.004    -545.229    -104.751\n",
       "weathersit[T.3] -1866.6542    297.077     -6.283      0.000   -2450.319   -1282.990\n",
       "instant             4.8667      0.202     24.064      0.000       4.469       5.264\n",
       "temp             5482.6865    245.140     22.366      0.000    5001.062    5964.311\n",
       "hum             -1621.8573    387.040     -4.190      0.000   -2382.272    -861.443\n",
       "windspeed       -3217.8727    579.723     -5.551      0.000   -4356.849   -2078.896\n",
       "==============================================================================\n",
       "Omnibus:                       48.249   Durbin-Watson:                   2.026\n",
       "Prob(Omnibus):                  0.000   Jarque-Bera (JB):               82.572\n",
       "Skew:                          -0.611   Prob(JB):                     1.17e-18\n",
       "Kurtosis:                       4.544   Cond. No.                     6.47e+03\n",
       "==============================================================================\n",
       "\n",
       "Notes:\n",
       "[1] Standard Errors assume that the covariance matrix of the errors is correctly specified.\n",
       "[2] The condition number is large, 6.47e+03. This might indicate that there are\n",
       "strong multicollinearity or other numerical problems.\n",
       "\"\"\""
      ]
     },
     "execution_count": 27,
     "metadata": {},
     "output_type": "execute_result"
    }
   ],
   "source": [
    "# Fit model using above variables\n",
    "model_b = smf.ols(formula='cnt ~ instant + workingday + weathersit + temp + hum + windspeed', data = bike_train).fit()\n",
    "model_b.summary()"
   ]
  },
  {
   "cell_type": "code",
   "execution_count": 28,
   "metadata": {},
   "outputs": [
    {
     "data": {
      "text/plain": [
       "947.4435728108674"
      ]
     },
     "execution_count": 28,
     "metadata": {},
     "output_type": "execute_result"
    }
   ],
   "source": [
    "# Prediction and RMSE\n",
    "pred = model_b.predict(bike_train)\n",
    "\n",
    "error = bike_train['cnt'] - pred \n",
    "RMSE = np.sqrt((error*error).mean())\n",
    "RMSE"
   ]
  },
  {
   "cell_type": "code",
   "execution_count": 29,
   "metadata": {},
   "outputs": [
    {
     "data": {
      "text/plain": [
       "959.4209369082959"
      ]
     },
     "execution_count": 29,
     "metadata": {},
     "output_type": "execute_result"
    }
   ],
   "source": [
    "# Out-of-sample RMSE\n",
    "pred = model_b.predict(bike_test)\n",
    "\n",
    "error = bike_test['cnt'] - pred \n",
    "RMSE = np.sqrt((error*error).mean())\n",
    "RMSE"
   ]
  },
  {
   "cell_type": "code",
   "execution_count": 30,
   "metadata": {},
   "outputs": [
    {
     "name": "stdout",
     "output_type": "stream",
     "text": [
      "The variable coefficients provided by the lasso are:\n"
     ]
    },
    {
     "data": {
      "text/plain": [
       "instant         5.465012\n",
       "season        185.535062\n",
       "yr              0.000000\n",
       "mnth          -29.278278\n",
       "holiday        -0.000000\n",
       "weekday         0.000000\n",
       "workingday      0.000000\n",
       "weathersit   -165.501171\n",
       "temp            0.000000\n",
       "hum            -0.000000\n",
       "windspeed      -0.000000\n",
       "dtype: float64"
      ]
     },
     "execution_count": 30,
     "metadata": {},
     "output_type": "execute_result"
    }
   ],
   "source": [
    "# LASSO Selection\n",
    "## Select optimum alpha\n",
    "alpha_values = np.arange(-100, 100, 1)\n",
    "\n",
    "## Use 5-fold cross validation to pick lambda\n",
    "\n",
    "from sklearn.linear_model import LassoCV\n",
    "\n",
    "model_lassocv = LassoCV(cv=10).fit(X_train, y_train['cnt'])\n",
    "\n",
    "\n",
    "print('The variable coefficients provided by the lasso are:')\n",
    "coef = pd.Series(model_lassocv.coef_, index = X_train.columns)\n",
    "coef"
   ]
  },
  {
   "cell_type": "code",
   "execution_count": 31,
   "metadata": {},
   "outputs": [
    {
     "name": "stdout",
     "output_type": "stream",
     "text": [
      "LassoCV picked 4 variables and eliminated the other 7 variables\n"
     ]
    }
   ],
   "source": [
    "print(\"LassoCV picked \" + str(sum(coef != 0)) + \" variables and eliminated the other \" +  str(sum(coef == 0)) + \" variables\")"
   ]
  },
  {
   "cell_type": "code",
   "execution_count": 32,
   "metadata": {},
   "outputs": [
    {
     "name": "stdout",
     "output_type": "stream",
     "text": [
      "The chosen alpha is: \n"
     ]
    },
    {
     "data": {
      "text/plain": [
       "251.8847323309884"
      ]
     },
     "execution_count": 32,
     "metadata": {},
     "output_type": "execute_result"
    }
   ],
   "source": [
    "print(\"The chosen alpha is: \")\n",
    "model_lassocv.alpha_"
   ]
  },
  {
   "cell_type": "code",
   "execution_count": 33,
   "metadata": {},
   "outputs": [
    {
     "name": "stderr",
     "output_type": "stream",
     "text": [
      "C:\\Users\\Sameer\\anaconda3\\lib\\site-packages\\seaborn\\_decorators.py:36: FutureWarning: Pass the following variables as keyword args: x, y. From version 0.12, the only valid positional argument will be `data`, and passing other arguments without an explicit keyword will result in an error or misinterpretation.\n",
      "  warnings.warn(\n"
     ]
    },
    {
     "data": {
      "image/png": "[encoded data removed]",
      "text/plain": [
       "<Figure size 576x432 with 1 Axes>"
      ]
     },
     "metadata": {},
     "output_type": "display_data"
    }
   ],
   "source": [
    "mse_path = model_lassocv.mse_path_.mean(axis = 1)\n",
    "aplha_path = model_lassocv.alphas_\n",
    "\n",
    "plt.figure(figsize = (8,6))\n",
    "sns.scatterplot(aplha_path, mse_path)\n",
    "plt.ylabel('Mean Squared Error')\n",
    "plt.xlabel('Alpha')\n",
    "plt.show()"
   ]
  },
  {
   "cell_type": "code",
   "execution_count": 34,
   "metadata": {},
   "outputs": [
    {
     "data": {
      "text/html": [
       "<table class=\"simpletable\">\n",
       "<caption>OLS Regression Results</caption>\n",
       "<tr>\n",
       "  <th>Dep. Variable:</th>           <td>cnt</td>       <th>  R-squared:         </th> <td>   0.794</td> \n",
       "</tr>\n",
       "<tr>\n",
       "  <th>Model:</th>                   <td>OLS</td>       <th>  Adj. R-squared:    </th> <td>   0.787</td> \n",
       "</tr>\n",
       "<tr>\n",
       "  <th>Method:</th>             <td>Least Squares</td>  <th>  F-statistic:       </th> <td>   112.0</td> \n",
       "</tr>\n",
       "<tr>\n",
       "  <th>Date:</th>             <td>Sat, 07 Aug 2021</td> <th>  Prob (F-statistic):</th> <td>6.40e-157</td>\n",
       "</tr>\n",
       "<tr>\n",
       "  <th>Time:</th>                 <td>01:17:29</td>     <th>  Log-Likelihood:    </th> <td> -4187.3</td> \n",
       "</tr>\n",
       "<tr>\n",
       "  <th>No. Observations:</th>      <td>   511</td>      <th>  AIC:               </th> <td>   8411.</td> \n",
       "</tr>\n",
       "<tr>\n",
       "  <th>Df Residuals:</th>          <td>   493</td>      <th>  BIC:               </th> <td>   8487.</td> \n",
       "</tr>\n",
       "<tr>\n",
       "  <th>Df Model:</th>              <td>    17</td>      <th>                     </th>     <td> </td>    \n",
       "</tr>\n",
       "<tr>\n",
       "  <th>Covariance Type:</th>      <td>nonrobust</td>    <th>                     </th>     <td> </td>    \n",
       "</tr>\n",
       "</table>\n",
       "<table class=\"simpletable\">\n",
       "<tr>\n",
       "         <td></td>            <th>coef</th>     <th>std err</th>      <th>t</th>      <th>P>|t|</th>  <th>[0.025</th>    <th>0.975]</th>  \n",
       "</tr>\n",
       "<tr>\n",
       "  <th>Intercept</th>       <td> 1272.2848</td> <td>  151.117</td> <td>    8.419</td> <td> 0.000</td> <td>  975.371</td> <td> 1569.198</td>\n",
       "</tr>\n",
       "<tr>\n",
       "  <th>mnth[T.2]</th>       <td>  410.5979</td> <td>  193.890</td> <td>    2.118</td> <td> 0.035</td> <td>   29.645</td> <td>  791.551</td>\n",
       "</tr>\n",
       "<tr>\n",
       "  <th>mnth[T.3]</th>       <td>  941.0935</td> <td>  226.145</td> <td>    4.161</td> <td> 0.000</td> <td>  496.767</td> <td> 1385.420</td>\n",
       "</tr>\n",
       "<tr>\n",
       "  <th>mnth[T.4]</th>       <td> 1196.8261</td> <td>  315.914</td> <td>    3.788</td> <td> 0.000</td> <td>  576.122</td> <td> 1817.530</td>\n",
       "</tr>\n",
       "<tr>\n",
       "  <th>mnth[T.5]</th>       <td> 1754.4646</td> <td>  315.379</td> <td>    5.563</td> <td> 0.000</td> <td> 1134.811</td> <td> 2374.118</td>\n",
       "</tr>\n",
       "<tr>\n",
       "  <th>mnth[T.6]</th>       <td> 1726.4611</td> <td>  306.897</td> <td>    5.626</td> <td> 0.000</td> <td> 1123.474</td> <td> 2329.449</td>\n",
       "</tr>\n",
       "<tr>\n",
       "  <th>mnth[T.7]</th>       <td> 1310.9374</td> <td>  350.032</td> <td>    3.745</td> <td> 0.000</td> <td>  623.199</td> <td> 1998.676</td>\n",
       "</tr>\n",
       "<tr>\n",
       "  <th>mnth[T.8]</th>       <td> 1261.8196</td> <td>  352.064</td> <td>    3.584</td> <td> 0.000</td> <td>  570.088</td> <td> 1953.552</td>\n",
       "</tr>\n",
       "<tr>\n",
       "  <th>mnth[T.9]</th>       <td> 1162.9697</td> <td>  325.750</td> <td>    3.570</td> <td> 0.000</td> <td>  522.940</td> <td> 1803.000</td>\n",
       "</tr>\n",
       "<tr>\n",
       "  <th>mnth[T.10]</th>      <td>   28.3565</td> <td>  324.971</td> <td>    0.087</td> <td> 0.931</td> <td> -610.142</td> <td>  666.855</td>\n",
       "</tr>\n",
       "<tr>\n",
       "  <th>mnth[T.11]</th>      <td>-1278.7028</td> <td>  322.955</td> <td>   -3.959</td> <td> 0.000</td> <td>-1913.240</td> <td> -644.165</td>\n",
       "</tr>\n",
       "<tr>\n",
       "  <th>mnth[T.12]</th>      <td>-1628.8339</td> <td>  255.592</td> <td>   -6.373</td> <td> 0.000</td> <td>-2131.017</td> <td>-1126.650</td>\n",
       "</tr>\n",
       "<tr>\n",
       "  <th>weathersit[T.2]</th> <td> -720.4097</td> <td>   86.513</td> <td>   -8.327</td> <td> 0.000</td> <td> -890.390</td> <td> -550.429</td>\n",
       "</tr>\n",
       "<tr>\n",
       "  <th>weathersit[T.3]</th> <td>-2788.8131</td> <td>  255.436</td> <td>  -10.918</td> <td> 0.000</td> <td>-3290.690</td> <td>-2286.936</td>\n",
       "</tr>\n",
       "<tr>\n",
       "  <th>season[T.2]</th>     <td>  744.9959</td> <td>  245.754</td> <td>    3.031</td> <td> 0.003</td> <td>  262.141</td> <td> 1227.851</td>\n",
       "</tr>\n",
       "<tr>\n",
       "  <th>season[T.3]</th>     <td>  997.4490</td> <td>  288.495</td> <td>    3.457</td> <td> 0.001</td> <td>  430.619</td> <td> 1564.279</td>\n",
       "</tr>\n",
       "<tr>\n",
       "  <th>season[T.4]</th>     <td> 1677.3132</td> <td>  248.432</td> <td>    6.752</td> <td> 0.000</td> <td> 1189.198</td> <td> 2165.429</td>\n",
       "</tr>\n",
       "<tr>\n",
       "  <th>instant</th>         <td>    5.7798</td> <td>    0.216</td> <td>   26.756</td> <td> 0.000</td> <td>    5.355</td> <td>    6.204</td>\n",
       "</tr>\n",
       "</table>\n",
       "<table class=\"simpletable\">\n",
       "<tr>\n",
       "  <th>Omnibus:</th>       <td>119.827</td> <th>  Durbin-Watson:     </th> <td>   2.000</td>\n",
       "</tr>\n",
       "<tr>\n",
       "  <th>Prob(Omnibus):</th> <td> 0.000</td>  <th>  Jarque-Bera (JB):  </th> <td> 426.986</td>\n",
       "</tr>\n",
       "<tr>\n",
       "  <th>Skew:</th>          <td>-1.043</td>  <th>  Prob(JB):          </th> <td>1.91e-93</td>\n",
       "</tr>\n",
       "<tr>\n",
       "  <th>Kurtosis:</th>      <td> 6.963</td>  <th>  Cond. No.          </th> <td>9.13e+03</td>\n",
       "</tr>\n",
       "</table><br/><br/>Notes:<br/>[1] Standard Errors assume that the covariance matrix of the errors is correctly specified.<br/>[2] The condition number is large, 9.13e+03. This might indicate that there are<br/>strong multicollinearity or other numerical problems."
      ],
      "text/plain": [
       "<class 'statsmodels.iolib.summary.Summary'>\n",
       "\"\"\"\n",
       "                            OLS Regression Results                            \n",
       "==============================================================================\n",
       "Dep. Variable:                    cnt   R-squared:                       0.794\n",
       "Model:                            OLS   Adj. R-squared:                  0.787\n",
       "Method:                 Least Squares   F-statistic:                     112.0\n",
       "Date:                Sat, 07 Aug 2021   Prob (F-statistic):          6.40e-157\n",
       "Time:                        01:17:29   Log-Likelihood:                -4187.3\n",
       "No. Observations:                 511   AIC:                             8411.\n",
       "Df Residuals:                     493   BIC:                             8487.\n",
       "Df Model:                          17                                         \n",
       "Covariance Type:            nonrobust                                         \n",
       "===================================================================================\n",
       "                      coef    std err          t      P>|t|      [0.025      0.975]\n",
       "-----------------------------------------------------------------------------------\n",
       "Intercept        1272.2848    151.117      8.419      0.000     975.371    1569.198\n",
       "mnth[T.2]         410.5979    193.890      2.118      0.035      29.645     791.551\n",
       "mnth[T.3]         941.0935    226.145      4.161      0.000     496.767    1385.420\n",
       "mnth[T.4]        1196.8261    315.914      3.788      0.000     576.122    1817.530\n",
       "mnth[T.5]        1754.4646    315.379      5.563      0.000    1134.811    2374.118\n",
       "mnth[T.6]        1726.4611    306.897      5.626      0.000    1123.474    2329.449\n",
       "mnth[T.7]        1310.9374    350.032      3.745      0.000     623.199    1998.676\n",
       "mnth[T.8]        1261.8196    352.064      3.584      0.000     570.088    1953.552\n",
       "mnth[T.9]        1162.9697    325.750      3.570      0.000     522.940    1803.000\n",
       "mnth[T.10]         28.3565    324.971      0.087      0.931    -610.142     666.855\n",
       "mnth[T.11]      -1278.7028    322.955     -3.959      0.000   -1913.240    -644.165\n",
       "mnth[T.12]      -1628.8339    255.592     -6.373      0.000   -2131.017   -1126.650\n",
       "weathersit[T.2]  -720.4097     86.513     -8.327      0.000    -890.390    -550.429\n",
       "weathersit[T.3] -2788.8131    255.436    -10.918      0.000   -3290.690   -2286.936\n",
       "season[T.2]       744.9959    245.754      3.031      0.003     262.141    1227.851\n",
       "season[T.3]       997.4490    288.495      3.457      0.001     430.619    1564.279\n",
       "season[T.4]      1677.3132    248.432      6.752      0.000    1189.198    2165.429\n",
       "instant             5.7798      0.216     26.756      0.000       5.355       6.204\n",
       "==============================================================================\n",
       "Omnibus:                      119.827   Durbin-Watson:                   2.000\n",
       "Prob(Omnibus):                  0.000   Jarque-Bera (JB):              426.986\n",
       "Skew:                          -1.043   Prob(JB):                     1.91e-93\n",
       "Kurtosis:                       6.963   Cond. No.                     9.13e+03\n",
       "==============================================================================\n",
       "\n",
       "Notes:\n",
       "[1] Standard Errors assume that the covariance matrix of the errors is correctly specified.\n",
       "[2] The condition number is large, 9.13e+03. This might indicate that there are\n",
       "strong multicollinearity or other numerical problems.\n",
       "\"\"\""
      ]
     },
     "execution_count": 34,
     "metadata": {},
     "output_type": "execute_result"
    }
   ],
   "source": [
    "# Fit model using above variables\n",
    "model_lasso = smf.ols(formula='cnt ~ instant + mnth + weathersit + season', data = bike_train).fit()\n",
    "model_lasso.summary()"
   ]
  },
  {
   "cell_type": "code",
   "execution_count": 35,
   "metadata": {},
   "outputs": [
    {
     "data": {
      "text/plain": [
       "876.0422503481765"
      ]
     },
     "execution_count": 35,
     "metadata": {},
     "output_type": "execute_result"
    }
   ],
   "source": [
    "train_pred = model_lasso.predict(X_train)\n",
    "train_error = y_train['cnt'] - train_pred\n",
    "train_RMSE = np.sqrt((train_error*train_error).mean())\n",
    "train_RMSE"
   ]
  },
  {
   "cell_type": "code",
   "execution_count": 36,
   "metadata": {},
   "outputs": [
    {
     "data": {
      "text/plain": [
       "851.3598342990753"
      ]
     },
     "execution_count": 36,
     "metadata": {},
     "output_type": "execute_result"
    }
   ],
   "source": [
    "test_pred = model_lasso.predict(X_test)\n",
    "test_error = y_test['cnt'] - test_pred\n",
    "test_RMSE = np.sqrt((test_error*test_error).mean())\n",
    "test_RMSE"
   ]
  },
  {
   "cell_type": "code",
   "execution_count": 44,
   "metadata": {},
   "outputs": [],
   "source": [
    "# Regression Trees\n",
    "\n",
    "from sklearn.tree import DecisionTreeRegressor\n",
    "from sklearn.tree import plot_tree\n",
    "from sklearn import tree\n",
    "from sklearn.model_selection import cross_val_score\n",
    "from sklearn.metrics import mean_squared_error"
   ]
  },
  {
   "cell_type": "code",
   "execution_count": 93,
   "metadata": {},
   "outputs": [
    {
     "data": {
      "image/png": "[encoded data removed]",
      "text/plain": [
       "<Figure size 432x288 with 1 Axes>"
      ]
     },
     "metadata": {},
     "output_type": "display_data"
    }
   ],
   "source": [
    "# Determine optimum depth for the tree\n",
    "\n",
    "max_depth = []\n",
    "mse_arr = []\n",
    "mse_test = []\n",
    "\n",
    "for i in range(1,50):\n",
    " dtree = DecisionTreeRegressor(max_depth=i, random_state=100)\n",
    " dtree.fit(X_train, y_train)\n",
    " pred_tr = dtree.predict(X_train)\n",
    " mse_tr = (mean_squared_error(y_train,pred_tr))\n",
    " mse_arr.append(mse_tr)\n",
    " pred_te = dtree.predict(X_test)\n",
    " mse_te = (mean_squared_error(y_test,pred_te))\n",
    " mse_test.append(mse_te)\n",
    " \n",
    "    \n",
    " max_depth.append(i)\n",
    "\n",
    "\n",
    "d = pd.DataFrame({'mse_arr':pd.Series(mse_arr), 'mse_test':pd.Series(mse_test),\n",
    " 'max_depth':pd.Series(max_depth)})\n",
    "\n",
    "# visualizing changes in parameters\n",
    "plt.plot('max_depth','mse_arr', data=d, label='mse train')\n",
    "plt.plot('max_depth','mse_test', data=d, label='mse test')\n",
    "plt.xlabel('max_depth')\n",
    "plt.ylabel('MSE')\n",
    "plt.legend()\n",
    "plt.savefig('cart_mse.jpg')"
   ]
  },
  {
   "cell_type": "code",
   "execution_count": 100,
   "metadata": {},
   "outputs": [],
   "source": [
    "# Fit regression tree with depth = 6\n",
    "\n",
    "clf = DecisionTreeRegressor(max_depth = 6, random_state = 0)\n",
    "clf.fit(X_train, y_train)\n",
    "text_representation = tree.export_text(clf, feature_names = list(X_train.columns.values))\n",
    "#print(text_representation)"
   ]
  },
  {
   "cell_type": "code",
   "execution_count": 101,
   "metadata": {},
   "outputs": [
    {
     "name": "stdout",
     "output_type": "stream",
     "text": [
      "495.8216247576696\n"
     ]
    }
   ],
   "source": [
    "# In-sample RMSE\n",
    "pred = clf.predict(X_train)\n",
    "rmse = np.sqrt((mean_squared_error(y_train,pred)))\n",
    "print(rmse)"
   ]
  },
  {
   "cell_type": "code",
   "execution_count": 102,
   "metadata": {},
   "outputs": [
    {
     "name": "stdout",
     "output_type": "stream",
     "text": [
      "898.5250230501615\n"
     ]
    }
   ],
   "source": [
    "# Out-of-sample RMSE\n",
    "pred = clf.predict(X_test)\n",
    "rmse = np.sqrt((mean_squared_error(y_test,pred)))\n",
    "print(rmse)"
   ]
  },
  {
   "cell_type": "code",
   "execution_count": 103,
   "metadata": {},
   "outputs": [],
   "source": [
    "# Random Forest\n",
    "\n",
    "# Convert to numpy array\n",
    "X_train_arr = np.array(X_train)\n",
    "X_test_arr = np.array(X_test)\n",
    "y_train_arr = np.array(y_train)\n",
    "y_test_arr = np.array(y_test)"
   ]
  },
  {
   "cell_type": "code",
   "execution_count": 107,
   "metadata": {},
   "outputs": [
    {
     "name": "stderr",
     "output_type": "stream",
     "text": [
      "<ipython-input-107-be00f9fb34c9>:7: DataConversionWarning: A column-vector y was passed when a 1d array was expected. Please change the shape of y to (n_samples,), for example using ravel().\n",
      "  rf.fit(X_train, y_train);\n"
     ]
    }
   ],
   "source": [
    "from sklearn.ensemble import RandomForestRegressor\n",
    "\n",
    "# Instantiate model with 1000 decision trees\n",
    "rf = RandomForestRegressor(bootstrap = True, criterion = 'mse', n_estimators = 1000, random_state = 42)\n",
    "\n",
    "# Train the model on training data\n",
    "rf.fit(X_train, y_train);"
   ]
  },
  {
   "cell_type": "code",
   "execution_count": 114,
   "metadata": {},
   "outputs": [
    {
     "name": "stdout",
     "output_type": "stream",
     "text": [
      "RMSE: 2670.806444155823\n"
     ]
    }
   ],
   "source": [
    "# Use the forest's predict method on the train data\n",
    "predictions = rf.predict(X_train)\n",
    "\n",
    "# Calculate the absolute errors\n",
    "errors = abs(predictions - y_train_arr)\n",
    "\n",
    "# Print out the mean absolute error (mae)\n",
    "print('RMSE:', np.sqrt(np.mean(errors**2)))"
   ]
  },
  {
   "cell_type": "code",
   "execution_count": 106,
   "metadata": {},
   "outputs": [
    {
     "name": "stdout",
     "output_type": "stream",
     "text": [
      "RMSE: 2671.72154933285\n"
     ]
    }
   ],
   "source": [
    "# Use the forest's predict method on the test data\n",
    "predictions = rf.predict(X_test_arr)\n",
    "\n",
    "# Calculate the absolute errors\n",
    "errors = abs(predictions - y_test_arr)\n",
    "\n",
    "# Print out the mean absolute error (mae)\n",
    "print('RMSE:', np.sqrt(np.mean(errors**2)))"
   ]
  },
  {
   "cell_type": "markdown",
   "metadata": {},
   "source": [
    "### Prep data for Neural Networks modeling"
   ]
  },
  {
   "cell_type": "code",
   "execution_count": 115,
   "metadata": {},
   "outputs": [
    {
     "data": {
      "text/html": [
       "<div>\n",
       "<style scoped>\n",
       "    .dataframe tbody tr th:only-of-type {\n",
       "        vertical-align: middle;\n",
       "    }\n",
       "\n",
       "    .dataframe tbody tr th {\n",
       "        vertical-align: top;\n",
       "    }\n",
       "\n",
       "    .dataframe thead th {\n",
       "        text-align: right;\n",
       "    }\n",
       "</style>\n",
       "<table border=\"1\" class=\"dataframe\">\n",
       "  <thead>\n",
       "    <tr style=\"text-align: right;\">\n",
       "      <th></th>\n",
       "      <th>instant</th>\n",
       "      <th>temp</th>\n",
       "      <th>hum</th>\n",
       "      <th>windspeed</th>\n",
       "      <th>cnt</th>\n",
       "      <th>season_1</th>\n",
       "      <th>season_2</th>\n",
       "      <th>season_3</th>\n",
       "      <th>season_4</th>\n",
       "      <th>yr_0</th>\n",
       "      <th>...</th>\n",
       "      <th>weekday_2</th>\n",
       "      <th>weekday_3</th>\n",
       "      <th>weekday_4</th>\n",
       "      <th>weekday_5</th>\n",
       "      <th>weekday_6</th>\n",
       "      <th>workingday_0</th>\n",
       "      <th>workingday_1</th>\n",
       "      <th>weathersit_1</th>\n",
       "      <th>weathersit_2</th>\n",
       "      <th>weathersit_3</th>\n",
       "    </tr>\n",
       "  </thead>\n",
       "  <tbody>\n",
       "    <tr>\n",
       "      <th>0</th>\n",
       "      <td>1</td>\n",
       "      <td>0.344167</td>\n",
       "      <td>0.805833</td>\n",
       "      <td>0.160446</td>\n",
       "      <td>985</td>\n",
       "      <td>1</td>\n",
       "      <td>0</td>\n",
       "      <td>0</td>\n",
       "      <td>0</td>\n",
       "      <td>1</td>\n",
       "      <td>...</td>\n",
       "      <td>0</td>\n",
       "      <td>0</td>\n",
       "      <td>0</td>\n",
       "      <td>0</td>\n",
       "      <td>1</td>\n",
       "      <td>1</td>\n",
       "      <td>0</td>\n",
       "      <td>0</td>\n",
       "      <td>1</td>\n",
       "      <td>0</td>\n",
       "    </tr>\n",
       "    <tr>\n",
       "      <th>1</th>\n",
       "      <td>2</td>\n",
       "      <td>0.363478</td>\n",
       "      <td>0.696087</td>\n",
       "      <td>0.248539</td>\n",
       "      <td>801</td>\n",
       "      <td>1</td>\n",
       "      <td>0</td>\n",
       "      <td>0</td>\n",
       "      <td>0</td>\n",
       "      <td>1</td>\n",
       "      <td>...</td>\n",
       "      <td>0</td>\n",
       "      <td>0</td>\n",
       "      <td>0</td>\n",
       "      <td>0</td>\n",
       "      <td>0</td>\n",
       "      <td>1</td>\n",
       "      <td>0</td>\n",
       "      <td>0</td>\n",
       "      <td>1</td>\n",
       "      <td>0</td>\n",
       "    </tr>\n",
       "    <tr>\n",
       "      <th>2</th>\n",
       "      <td>3</td>\n",
       "      <td>0.196364</td>\n",
       "      <td>0.437273</td>\n",
       "      <td>0.248309</td>\n",
       "      <td>1349</td>\n",
       "      <td>1</td>\n",
       "      <td>0</td>\n",
       "      <td>0</td>\n",
       "      <td>0</td>\n",
       "      <td>1</td>\n",
       "      <td>...</td>\n",
       "      <td>0</td>\n",
       "      <td>0</td>\n",
       "      <td>0</td>\n",
       "      <td>0</td>\n",
       "      <td>0</td>\n",
       "      <td>0</td>\n",
       "      <td>1</td>\n",
       "      <td>1</td>\n",
       "      <td>0</td>\n",
       "      <td>0</td>\n",
       "    </tr>\n",
       "    <tr>\n",
       "      <th>3</th>\n",
       "      <td>4</td>\n",
       "      <td>0.200000</td>\n",
       "      <td>0.590435</td>\n",
       "      <td>0.160296</td>\n",
       "      <td>1562</td>\n",
       "      <td>1</td>\n",
       "      <td>0</td>\n",
       "      <td>0</td>\n",
       "      <td>0</td>\n",
       "      <td>1</td>\n",
       "      <td>...</td>\n",
       "      <td>1</td>\n",
       "      <td>0</td>\n",
       "      <td>0</td>\n",
       "      <td>0</td>\n",
       "      <td>0</td>\n",
       "      <td>0</td>\n",
       "      <td>1</td>\n",
       "      <td>1</td>\n",
       "      <td>0</td>\n",
       "      <td>0</td>\n",
       "    </tr>\n",
       "    <tr>\n",
       "      <th>4</th>\n",
       "      <td>5</td>\n",
       "      <td>0.226957</td>\n",
       "      <td>0.436957</td>\n",
       "      <td>0.186900</td>\n",
       "      <td>1600</td>\n",
       "      <td>1</td>\n",
       "      <td>0</td>\n",
       "      <td>0</td>\n",
       "      <td>0</td>\n",
       "      <td>1</td>\n",
       "      <td>...</td>\n",
       "      <td>0</td>\n",
       "      <td>1</td>\n",
       "      <td>0</td>\n",
       "      <td>0</td>\n",
       "      <td>0</td>\n",
       "      <td>0</td>\n",
       "      <td>1</td>\n",
       "      <td>1</td>\n",
       "      <td>0</td>\n",
       "      <td>0</td>\n",
       "    </tr>\n",
       "  </tbody>\n",
       "</table>\n",
       "<p>5 rows × 37 columns</p>\n",
       "</div>"
      ],
      "text/plain": [
       "   instant      temp       hum  windspeed   cnt  season_1  season_2  season_3  \\\n",
       "0        1  0.344167  0.805833   0.160446   985         1         0         0   \n",
       "1        2  0.363478  0.696087   0.248539   801         1         0         0   \n",
       "2        3  0.196364  0.437273   0.248309  1349         1         0         0   \n",
       "3        4  0.200000  0.590435   0.160296  1562         1         0         0   \n",
       "4        5  0.226957  0.436957   0.186900  1600         1         0         0   \n",
       "\n",
       "   season_4  yr_0  ...  weekday_2  weekday_3  weekday_4  weekday_5  weekday_6  \\\n",
       "0         0     1  ...          0          0          0          0          1   \n",
       "1         0     1  ...          0          0          0          0          0   \n",
       "2         0     1  ...          0          0          0          0          0   \n",
       "3         0     1  ...          1          0          0          0          0   \n",
       "4         0     1  ...          0          1          0          0          0   \n",
       "\n",
       "   workingday_0  workingday_1  weathersit_1  weathersit_2  weathersit_3  \n",
       "0             1             0             0             1             0  \n",
       "1             1             0             0             1             0  \n",
       "2             0             1             1             0             0  \n",
       "3             0             1             1             0             0  \n",
       "4             0             1             1             0             0  \n",
       "\n",
       "[5 rows x 37 columns]"
      ]
     },
     "execution_count": 115,
     "metadata": {},
     "output_type": "execute_result"
    }
   ],
   "source": [
    "# One hot encoding of whole data\n",
    "# Keep relevant columns\n",
    "bike_d = bike.drop(columns=['dteday'])\n",
    "bike_d = pd.get_dummies(bike_d)\n",
    "\n",
    "bike_d.head()"
   ]
  },
  {
   "cell_type": "code",
   "execution_count": 116,
   "metadata": {},
   "outputs": [
    {
     "data": {
      "text/html": [
       "<div>\n",
       "<style scoped>\n",
       "    .dataframe tbody tr th:only-of-type {\n",
       "        vertical-align: middle;\n",
       "    }\n",
       "\n",
       "    .dataframe tbody tr th {\n",
       "        vertical-align: top;\n",
       "    }\n",
       "\n",
       "    .dataframe thead th {\n",
       "        text-align: right;\n",
       "    }\n",
       "</style>\n",
       "<table border=\"1\" class=\"dataframe\">\n",
       "  <thead>\n",
       "    <tr style=\"text-align: right;\">\n",
       "      <th></th>\n",
       "      <th>instant</th>\n",
       "      <th>temp</th>\n",
       "      <th>hum</th>\n",
       "      <th>windspeed</th>\n",
       "      <th>cnt</th>\n",
       "      <th>season_1</th>\n",
       "      <th>season_2</th>\n",
       "      <th>season_3</th>\n",
       "      <th>season_4</th>\n",
       "      <th>yr_0</th>\n",
       "      <th>...</th>\n",
       "      <th>weekday_3</th>\n",
       "      <th>weekday_4</th>\n",
       "      <th>weekday_5</th>\n",
       "      <th>weekday_6</th>\n",
       "      <th>workingday_0</th>\n",
       "      <th>workingday_1</th>\n",
       "      <th>weathersit_1</th>\n",
       "      <th>weathersit_2</th>\n",
       "      <th>weathersit_3</th>\n",
       "      <th>cntscl</th>\n",
       "    </tr>\n",
       "  </thead>\n",
       "  <tbody>\n",
       "    <tr>\n",
       "      <th>0</th>\n",
       "      <td>1</td>\n",
       "      <td>0.344167</td>\n",
       "      <td>0.805833</td>\n",
       "      <td>0.160446</td>\n",
       "      <td>985</td>\n",
       "      <td>1</td>\n",
       "      <td>0</td>\n",
       "      <td>0</td>\n",
       "      <td>0</td>\n",
       "      <td>1</td>\n",
       "      <td>...</td>\n",
       "      <td>0</td>\n",
       "      <td>0</td>\n",
       "      <td>0</td>\n",
       "      <td>1</td>\n",
       "      <td>1</td>\n",
       "      <td>0</td>\n",
       "      <td>0</td>\n",
       "      <td>1</td>\n",
       "      <td>0</td>\n",
       "      <td>0.110792</td>\n",
       "    </tr>\n",
       "    <tr>\n",
       "      <th>1</th>\n",
       "      <td>2</td>\n",
       "      <td>0.363478</td>\n",
       "      <td>0.696087</td>\n",
       "      <td>0.248539</td>\n",
       "      <td>801</td>\n",
       "      <td>1</td>\n",
       "      <td>0</td>\n",
       "      <td>0</td>\n",
       "      <td>0</td>\n",
       "      <td>1</td>\n",
       "      <td>...</td>\n",
       "      <td>0</td>\n",
       "      <td>0</td>\n",
       "      <td>0</td>\n",
       "      <td>0</td>\n",
       "      <td>1</td>\n",
       "      <td>0</td>\n",
       "      <td>0</td>\n",
       "      <td>1</td>\n",
       "      <td>0</td>\n",
       "      <td>0.089623</td>\n",
       "    </tr>\n",
       "    <tr>\n",
       "      <th>2</th>\n",
       "      <td>3</td>\n",
       "      <td>0.196364</td>\n",
       "      <td>0.437273</td>\n",
       "      <td>0.248309</td>\n",
       "      <td>1349</td>\n",
       "      <td>1</td>\n",
       "      <td>0</td>\n",
       "      <td>0</td>\n",
       "      <td>0</td>\n",
       "      <td>1</td>\n",
       "      <td>...</td>\n",
       "      <td>0</td>\n",
       "      <td>0</td>\n",
       "      <td>0</td>\n",
       "      <td>0</td>\n",
       "      <td>0</td>\n",
       "      <td>1</td>\n",
       "      <td>1</td>\n",
       "      <td>0</td>\n",
       "      <td>0</td>\n",
       "      <td>0.152669</td>\n",
       "    </tr>\n",
       "    <tr>\n",
       "      <th>3</th>\n",
       "      <td>4</td>\n",
       "      <td>0.200000</td>\n",
       "      <td>0.590435</td>\n",
       "      <td>0.160296</td>\n",
       "      <td>1562</td>\n",
       "      <td>1</td>\n",
       "      <td>0</td>\n",
       "      <td>0</td>\n",
       "      <td>0</td>\n",
       "      <td>1</td>\n",
       "      <td>...</td>\n",
       "      <td>0</td>\n",
       "      <td>0</td>\n",
       "      <td>0</td>\n",
       "      <td>0</td>\n",
       "      <td>0</td>\n",
       "      <td>1</td>\n",
       "      <td>1</td>\n",
       "      <td>0</td>\n",
       "      <td>0</td>\n",
       "      <td>0.177174</td>\n",
       "    </tr>\n",
       "    <tr>\n",
       "      <th>4</th>\n",
       "      <td>5</td>\n",
       "      <td>0.226957</td>\n",
       "      <td>0.436957</td>\n",
       "      <td>0.186900</td>\n",
       "      <td>1600</td>\n",
       "      <td>1</td>\n",
       "      <td>0</td>\n",
       "      <td>0</td>\n",
       "      <td>0</td>\n",
       "      <td>1</td>\n",
       "      <td>...</td>\n",
       "      <td>1</td>\n",
       "      <td>0</td>\n",
       "      <td>0</td>\n",
       "      <td>0</td>\n",
       "      <td>0</td>\n",
       "      <td>1</td>\n",
       "      <td>1</td>\n",
       "      <td>0</td>\n",
       "      <td>0</td>\n",
       "      <td>0.181546</td>\n",
       "    </tr>\n",
       "  </tbody>\n",
       "</table>\n",
       "<p>5 rows × 38 columns</p>\n",
       "</div>"
      ],
      "text/plain": [
       "   instant      temp       hum  windspeed   cnt  season_1  season_2  season_3  \\\n",
       "0        1  0.344167  0.805833   0.160446   985         1         0         0   \n",
       "1        2  0.363478  0.696087   0.248539   801         1         0         0   \n",
       "2        3  0.196364  0.437273   0.248309  1349         1         0         0   \n",
       "3        4  0.200000  0.590435   0.160296  1562         1         0         0   \n",
       "4        5  0.226957  0.436957   0.186900  1600         1         0         0   \n",
       "\n",
       "   season_4  yr_0  ...  weekday_3  weekday_4  weekday_5  weekday_6  \\\n",
       "0         0     1  ...          0          0          0          1   \n",
       "1         0     1  ...          0          0          0          0   \n",
       "2         0     1  ...          0          0          0          0   \n",
       "3         0     1  ...          0          0          0          0   \n",
       "4         0     1  ...          1          0          0          0   \n",
       "\n",
       "   workingday_0  workingday_1  weathersit_1  weathersit_2  weathersit_3  \\\n",
       "0             1             0             0             1             0   \n",
       "1             1             0             0             1             0   \n",
       "2             0             1             1             0             0   \n",
       "3             0             1             1             0             0   \n",
       "4             0             1             1             0             0   \n",
       "\n",
       "     cntscl  \n",
       "0  0.110792  \n",
       "1  0.089623  \n",
       "2  0.152669  \n",
       "3  0.177174  \n",
       "4  0.181546  \n",
       "\n",
       "[5 rows x 38 columns]"
      ]
     },
     "execution_count": 116,
     "metadata": {},
     "output_type": "execute_result"
    }
   ],
   "source": [
    "# Scale data\n",
    "scaler = MinMaxScaler(feature_range=(0, 1))\n",
    "scaled = scaler.fit_transform(array(bike_d['cnt']).reshape(len(bike_d['cnt']), 1))\n",
    "series = pd.DataFrame(scaled)\n",
    "series.columns = ['cntscl']\n",
    "\n",
    "bike_scl = pd.merge(bike_d, series, left_index=True, right_index=True)\n",
    "bike_scl.head()"
   ]
  },
  {
   "cell_type": "code",
   "execution_count": 117,
   "metadata": {},
   "outputs": [
    {
     "name": "stdout",
     "output_type": "stream",
     "text": [
      "total, train, test, holdout: 731 591 70 70\n"
     ]
    }
   ],
   "source": [
    "#Split into train - test - holdout\n",
    "\n",
    "number_of_test_data = 70\n",
    "number_of_holdout_data = 70\n",
    "number_of_training_data = len(bike_d) - number_of_holdout_data - number_of_test_data\n",
    "print (\"total, train, test, holdout:\", len(bike_d), number_of_training_data, number_of_test_data, number_of_holdout_data)"
   ]
  },
  {
   "cell_type": "code",
   "execution_count": 118,
   "metadata": {},
   "outputs": [],
   "source": [
    "datatrain = bike_scl[:number_of_training_data]\n",
    "datatest = bike_scl[-(number_of_test_data+number_of_holdout_data):-number_of_holdout_data]\n",
    "datahold = bike_scl[-number_of_holdout_data:]"
   ]
  },
  {
   "cell_type": "code",
   "execution_count": 123,
   "metadata": {},
   "outputs": [],
   "source": [
    "# Create array for all columns - train data\n",
    "\n",
    "in_seq1 = array(datatrain['holiday_0'])\n",
    "in_seq1_1 = array(datatrain['holiday_1'])\n",
    "in_seq2 = array(datatrain['workingday_0'])\n",
    "in_seq2_1 = array(datatrain['workingday_1'])\n",
    "in_seq3 = array(datatrain['temp'])\n",
    "in_seq5 = array(datatrain['hum'])\n",
    "in_seq6 = array(datatrain['windspeed'])\n",
    "in_seq7 = array(datatrain['weekday_0'])\n",
    "in_seq8 = array(datatrain['weekday_1'])\n",
    "in_seq9 = array(datatrain['weekday_2'])\n",
    "in_seq10 = array(datatrain['weekday_3'])\n",
    "in_seq11 = array(datatrain['weekday_4'])\n",
    "in_seq12 = array(datatrain['weekday_5'])\n",
    "in_seq13 = array(datatrain['weekday_6'])\n",
    "in_seq14 = array(datatrain['weathersit_1'])\n",
    "in_seq15 = array(datatrain['weathersit_2'])\n",
    "in_seq16 = array(datatrain['weathersit_3'])\n",
    "out_seq_train = array(datatrain['cntscl'])"
   ]
  },
  {
   "cell_type": "code",
   "execution_count": 124,
   "metadata": {},
   "outputs": [],
   "source": [
    "# Reshape data - train\n",
    "\n",
    "in_seq1 = in_seq1.reshape((len(in_seq1), 1))\n",
    "in_seq1_1 = in_seq1_1.reshape((len(in_seq1_1), 1))\n",
    "in_seq2 = in_seq2.reshape((len(in_seq2), 1))\n",
    "in_seq2_1 = in_seq2_1.reshape((len(in_seq2_1), 1))\n",
    "in_seq3 = in_seq3.reshape((len(in_seq3), 1))\n",
    "in_seq5 = in_seq5.reshape((len(in_seq5), 1))\n",
    "in_seq6 = in_seq6.reshape((len(in_seq6), 1))\n",
    "in_seq7 = in_seq7.reshape((len(in_seq7), 1))\n",
    "in_seq8 = in_seq8.reshape((len(in_seq8), 1))\n",
    "in_seq9 = in_seq9.reshape((len(in_seq9), 1))\n",
    "in_seq10 = in_seq10.reshape((len(in_seq10), 1))\n",
    "in_seq11 = in_seq11.reshape((len(in_seq11), 1))\n",
    "in_seq12 = in_seq12.reshape((len(in_seq12), 1))\n",
    "in_seq13 = in_seq13.reshape((len(in_seq13), 1))\n",
    "in_seq14 = in_seq14.reshape((len(in_seq14), 1))\n",
    "in_seq15 = in_seq15.reshape((len(in_seq15), 1))\n",
    "in_seq16 = in_seq16.reshape((len(in_seq16), 1))\n",
    "out_seq_train = out_seq_train.reshape((len(out_seq_train), 1))"
   ]
  },
  {
   "cell_type": "code",
   "execution_count": 125,
   "metadata": {},
   "outputs": [],
   "source": [
    "datatrain_feed = hstack((in_seq1, in_seq1_1, in_seq2,in_seq2_1, in_seq3,  in_seq5, in_seq6, in_seq7, in_seq8, in_seq9, in_seq10, in_seq11, in_seq12, in_seq13, in_seq14, in_seq15, in_seq16, out_seq_train))"
   ]
  },
  {
   "cell_type": "code",
   "execution_count": 126,
   "metadata": {},
   "outputs": [],
   "source": [
    "# Create array for all columns - test data\n",
    "\n",
    "in_seq1 = array(datatest['holiday_0'])\n",
    "in_seq1_1 = array(datatest['holiday_1'])\n",
    "in_seq2 = array(datatest['workingday_0'])\n",
    "in_seq2_1 = array(datatest['workingday_1'])\n",
    "in_seq3 = array(datatest['temp'])\n",
    "in_seq5 = array(datatest['hum'])\n",
    "in_seq6 = array(datatest['windspeed'])\n",
    "in_seq7 = array(datatest['weekday_0'])\n",
    "in_seq8 = array(datatest['weekday_1'])\n",
    "in_seq9 = array(datatest['weekday_2'])\n",
    "in_seq10 = array(datatest['weekday_3'])\n",
    "in_seq11 = array(datatest['weekday_4'])\n",
    "in_seq12 = array(datatest['weekday_5'])\n",
    "in_seq13 = array(datatest['weekday_6'])\n",
    "in_seq14 = array(datatest['weathersit_1'])\n",
    "in_seq15 = array(datatest['weathersit_2'])\n",
    "in_seq16 = array(datatest['weathersit_3'])\n",
    "out_seq_test = array(datatest['cntscl'])"
   ]
  },
  {
   "cell_type": "code",
   "execution_count": 129,
   "metadata": {},
   "outputs": [],
   "source": [
    "# Reshape data - test data\n",
    "\n",
    "in_seq1 = in_seq1.reshape((len(in_seq1), 1))\n",
    "in_seq1_1 = in_seq1_1.reshape((len(in_seq1_1), 1))\n",
    "in_seq2 = in_seq2.reshape((len(in_seq2), 1))\n",
    "in_seq2_1 = in_seq2_1.reshape((len(in_seq2_1), 1))\n",
    "in_seq3 = in_seq3.reshape((len(in_seq3), 1))\n",
    "in_seq5 = in_seq5.reshape((len(in_seq5), 1))\n",
    "in_seq6 = in_seq6.reshape((len(in_seq6), 1))\n",
    "in_seq7 = in_seq7.reshape((len(in_seq7), 1))\n",
    "in_seq8 = in_seq8.reshape((len(in_seq8), 1))\n",
    "in_seq9 = in_seq9.reshape((len(in_seq9), 1))\n",
    "in_seq10 = in_seq10.reshape((len(in_seq10), 1))\n",
    "in_seq11 = in_seq11.reshape((len(in_seq11), 1))\n",
    "in_seq12 = in_seq12.reshape((len(in_seq12), 1))\n",
    "in_seq13 = in_seq13.reshape((len(in_seq13), 1))\n",
    "in_seq14 = in_seq14.reshape((len(in_seq14), 1))\n",
    "in_seq15 = in_seq15.reshape((len(in_seq15), 1))\n",
    "in_seq16 = in_seq16.reshape((len(in_seq16), 1))\n",
    "out_seq_test = out_seq_test.reshape((len(out_seq_test), 1))"
   ]
  },
  {
   "cell_type": "code",
   "execution_count": 130,
   "metadata": {},
   "outputs": [],
   "source": [
    "datatest_feed = hstack((in_seq1,in_seq1_1, in_seq2, in_seq2_1, in_seq3, in_seq5, in_seq6, in_seq7, in_seq8, in_seq9, in_seq10, in_seq11, in_seq12, in_seq13, in_seq14, in_seq15, in_seq16, out_seq_test))"
   ]
  },
  {
   "cell_type": "code",
   "execution_count": 132,
   "metadata": {},
   "outputs": [],
   "source": [
    "# Create arrays - holdout data\n",
    "\n",
    "in_seq1 = array(datahold['holiday_0'])\n",
    "in_seq1_1 = array(datahold['holiday_1'])\n",
    "in_seq2 = array(datahold['workingday_0'])\n",
    "in_seq2_1 = array(datahold['workingday_1'])\n",
    "in_seq3 = array(datahold['temp'])\n",
    "in_seq5 = array(datahold['hum'])\n",
    "in_seq6 = array(datahold['windspeed'])\n",
    "in_seq7 = array(datahold['weekday_0'])\n",
    "in_seq8 = array(datahold['weekday_1'])\n",
    "in_seq9 = array(datahold['weekday_2'])\n",
    "in_seq10 = array(datahold['weekday_3'])\n",
    "in_seq11 = array(datahold['weekday_4'])\n",
    "in_seq12 = array(datahold['weekday_5'])\n",
    "in_seq13 = array(datahold['weekday_6'])\n",
    "in_seq14 = array(datahold['weathersit_1'])\n",
    "in_seq15 = array(datahold['weathersit_2'])\n",
    "in_seq16 = array(datahold['weathersit_3'])\n",
    "out_seq_hold = array(datahold['cntscl'])"
   ]
  },
  {
   "cell_type": "code",
   "execution_count": 133,
   "metadata": {},
   "outputs": [],
   "source": [
    "# Reshape data - holdout data\n",
    "in_seq1 = in_seq1.reshape((len(in_seq1), 1))\n",
    "in_seq1_1 = in_seq1_1.reshape((len(in_seq1_1), 1))\n",
    "in_seq2 = in_seq2.reshape((len(in_seq2), 1))\n",
    "in_seq2_1 = in_seq2_1.reshape((len(in_seq2_1), 1))\n",
    "in_seq3 = in_seq3.reshape((len(in_seq3), 1))\n",
    "in_seq5 = in_seq5.reshape((len(in_seq5), 1))\n",
    "in_seq6 = in_seq6.reshape((len(in_seq6), 1))\n",
    "in_seq7 = in_seq7.reshape((len(in_seq7), 1))\n",
    "in_seq8 = in_seq8.reshape((len(in_seq8), 1))\n",
    "in_seq9 = in_seq9.reshape((len(in_seq9), 1))\n",
    "in_seq10 = in_seq10.reshape((len(in_seq10), 1))\n",
    "in_seq11 = in_seq11.reshape((len(in_seq11), 1))\n",
    "in_seq12 = in_seq12.reshape((len(in_seq12), 1))\n",
    "in_seq13 = in_seq13.reshape((len(in_seq13), 1))\n",
    "in_seq14 = in_seq14.reshape((len(in_seq14), 1))\n",
    "in_seq15 = in_seq15.reshape((len(in_seq15), 1))\n",
    "in_seq16 = in_seq16.reshape((len(in_seq16), 1))\n",
    "out_seq_hold = out_seq_hold.reshape((len(out_seq_hold), 1))"
   ]
  },
  {
   "cell_type": "code",
   "execution_count": 134,
   "metadata": {},
   "outputs": [],
   "source": [
    "datahold_feed = hstack((in_seq1,in_seq1_1, in_seq2,in_seq2_1, in_seq3, in_seq5, in_seq6, in_seq7, in_seq8, in_seq9, in_seq10, in_seq11, in_seq12, in_seq13, in_seq14, in_seq15, in_seq16, out_seq_hold))"
   ]
  },
  {
   "cell_type": "code",
   "execution_count": 135,
   "metadata": {},
   "outputs": [],
   "source": [
    "n_features = datatrain_feed.shape[1]\n",
    "n_input = 10\n",
    "generator_train = TimeseriesGenerator(datatrain_feed, out_seq_train, length=n_input, batch_size=len(datatrain_feed))"
   ]
  },
  {
   "cell_type": "code",
   "execution_count": 136,
   "metadata": {},
   "outputs": [],
   "source": [
    "generator_test = TimeseriesGenerator(datatest_feed, out_seq_test, length=n_input, batch_size=1)\n",
    "generator_hold = TimeseriesGenerator(datahold_feed, out_seq_hold, length=n_input, batch_size=1)"
   ]
  },
  {
   "cell_type": "code",
   "execution_count": 139,
   "metadata": {},
   "outputs": [
    {
     "name": "stdout",
     "output_type": "stream",
     "text": [
      "Model: \"sequential_1\"\n",
      "_________________________________________________________________\n",
      "Layer (type)                 Output Shape              Param #   \n",
      "=================================================================\n",
      "simple_rnn_1 (SimpleRNN)     (None, 4)                 92        \n",
      "_________________________________________________________________\n",
      "dense_1 (Dense)              (None, 1)                 5         \n",
      "=================================================================\n",
      "Total params: 97\n",
      "Trainable params: 97\n",
      "Non-trainable params: 0\n",
      "_________________________________________________________________\n"
     ]
    }
   ],
   "source": [
    "# Modeling - Neural Networks\n",
    "\n",
    "model = Sequential()\n",
    "\n",
    "\n",
    "model.add(SimpleRNN(4, activation='relu', input_shape=(n_input,n_features), return_sequences = False))\n",
    "model.add(Dense(1, activation='relu'))\n",
    "\n",
    "adam = Adam(lr=0.0001)\n",
    "model.compile(optimizer='adam', loss='mse')\n",
    "\n",
    "model.summary()"
   ]
  },
  {
   "cell_type": "code",
   "execution_count": 147,
   "metadata": {},
   "outputs": [],
   "source": [
    "score = model.fit(generator_train, epochs=3000, verbose=0, validation_data=generator_test)"
   ]
  },
  {
   "cell_type": "code",
   "execution_count": 141,
   "metadata": {},
   "outputs": [
    {
     "data": {
      "image/png": "[encoded data removed]",
      "text/plain": [
       "<Figure size 720x360 with 1 Axes>"
      ]
     },
     "metadata": {},
     "output_type": "display_data"
    }
   ],
   "source": [
    "losses = score.history['loss']\n",
    "val_losses = score.history['val_loss']\n",
    "plt.figure(figsize=(10,5))\n",
    "plt.plot(losses, label=\"trainset\")\n",
    "plt.plot(val_losses, label=\"testset\")\n",
    "plt.legend(bbox_to_anchor=(1.05, 1), loc=2, borderaxespad=0.)\n",
    "plt.show()"
   ]
  },
  {
   "cell_type": "code",
   "execution_count": 148,
   "metadata": {},
   "outputs": [],
   "source": [
    "df_result = pd.DataFrame({'Actual' : [], 'Prediction' : []})\n",
    "\n",
    "for i in range(len(generator_test)):\n",
    "    x, y = generator_test[i]\n",
    "    x_input = array(x).reshape((1, n_input, n_features))\n",
    "    yhat = model.predict(x_input, verbose=0)\n",
    "    df_result = df_result.append({'Actual': scaler.inverse_transform(y)[0][0], 'Prediction': scaler.inverse_transform(yhat)[0][0]}, ignore_index=True)"
   ]
  },
  {
   "cell_type": "code",
   "execution_count": 152,
   "metadata": {},
   "outputs": [],
   "source": [
    "df_result['Diff'] = 100 * (df_result['Prediction'] - df_result['Actual']) / df_result['Actual']   "
   ]
  },
  {
   "cell_type": "code",
   "execution_count": 151,
   "metadata": {},
   "outputs": [
    {
     "name": "stdout",
     "output_type": "stream",
     "text": [
      "mean:  7067.733333333334\n",
      "mae: 1084.5847615559896\n",
      "mae/mean ratio:  15.345581255036828 %\n",
      "correctness:  84.65441874496317 %\n",
      "rmse: 1084.5847615559896\n"
     ]
    }
   ],
   "source": [
    "mean = df_result['Actual'].mean()\n",
    "mae = (df_result['Actual'] - df_result['Prediction']).abs().mean()\n",
    "rmse = (np.sqrt((df_result['Actual'] - df_result['Prediction'])*(df_result['Actual'] - df_result['Prediction']))).mean()\n",
    "\n",
    "print(\"mean: \", mean)\n",
    "print(\"mae:\", mae)\n",
    "print(\"mae/mean ratio: \", 100*mae/mean,\"%\")\n",
    "print(\"correctness: \", 100 - 100*mae/mean,\"%\")\n",
    "\n",
    "print(\"rmse:\", rmse)"
   ]
  },
  {
   "cell_type": "code",
   "execution_count": 163,
   "metadata": {},
   "outputs": [
    {
     "data": {
      "image/png": "[encoded data removed]",
      "text/plain": [
       "<Figure size 1080x720 with 1 Axes>"
      ]
     },
     "metadata": {},
     "output_type": "display_data"
    }
   ],
   "source": [
    "plt.figure(figsize=(15,10))\n",
    "plt.plot(df_result['Actual'], color='blue', label=\"Actual\")\n",
    "plt.plot(df_result['Prediction'], color='red', label=\"Predicted\")\n",
    "plt.show()"
   ]
  },
  {
   "cell_type": "code",
   "execution_count": 154,
   "metadata": {},
   "outputs": [],
   "source": [
    "df_result = pd.DataFrame({'Actual' : [], 'Prediction' : []})\n",
    "\n",
    "for i in range(len(generator_hold)):\n",
    "    x, y = generator_hold[i]\n",
    "    x_input = array(x).reshape((1, n_input, n_features))\n",
    "    yhat = model.predict(x_input, verbose=0)\n",
    "    df_result = df_result.append({'Actual': scaler.inverse_transform(y)[0][0], 'Prediction': scaler.inverse_transform(yhat)[0][0]}, ignore_index=True)"
   ]
  },
  {
   "cell_type": "code",
   "execution_count": 155,
   "metadata": {},
   "outputs": [],
   "source": [
    "df_result['Diff'] = 100 * (df_result['Prediction'] - df_result['Actual']) / df_result['Actual']"
   ]
  },
  {
   "cell_type": "code",
   "execution_count": 159,
   "metadata": {},
   "outputs": [
    {
     "name": "stdout",
     "output_type": "stream",
     "text": [
      "mean:  4506.516666666666\n",
      "mae: 876.2551005045573\n",
      "mae/mean ratio:  19.444177517104283 %\n",
      "correctness:  80.55582248289572 %\n",
      "rmse: 817.2739950644003\n"
     ]
    }
   ],
   "source": [
    "mean = df_result['Actual'].mean()\n",
    "mae = (df_result['Actual'] - df_result['Prediction']).abs().mean()\n",
    "rmse = (np.sqrt(df_result['Actual'] - df_result['Prediction'])**2).mean()\n",
    "\n",
    "print(\"mean: \", mean)\n",
    "print(\"mae:\", mae)\n",
    "print(\"mae/mean ratio: \", 100*mae/mean,\"%\")\n",
    "print(\"correctness: \", 100 - 100*mae/mean,\"%\")\n",
    "\n",
    "print(\"rmse:\", rmse)"
   ]
  },
  {
   "cell_type": "code",
   "execution_count": 166,
   "metadata": {},
   "outputs": [
    {
     "data": {
      "image/png": "[encoded data removed]",
      "text/plain": [
       "<Figure size 864x576 with 1 Axes>"
      ]
     },
     "metadata": {},
     "output_type": "display_data"
    },
    {
     "data": {
      "text/plain": [
       "<Figure size 432x288 with 0 Axes>"
      ]
     },
     "metadata": {},
     "output_type": "display_data"
    }
   ],
   "source": [
    "plt.figure(figsize=(12,8))\n",
    "plt.plot(df_result['Actual'], color='blue', label=\"Actual\")\n",
    "plt.plot(df_result['Prediction'], color='red', label=\"Predicted\")\n",
    "plt.show()\n",
    "plt.savefig('RNN')"
   ]
  },
  {
   "cell_type": "code",
   "execution_count": null,
   "metadata": {},
   "outputs": [],
   "source": [
    "from statsmodels.gam.api import GLMGam, BSplines\n",
    "from statsmodels.gam.tests.test_penalized import df_autos\n",
    "\n",
    "\n",
    "bs = BSplines(bike_train, df=[12, 10], degree=[3, 3])\n",
    "\n",
    "gam_bs = GLMGam.from_formula('cnt ~ yr + mnth + instant + season + holiday + weekday + workingday + weathersit + temp + hum + windspeed', data=bike_train, smoother=bs)\n",
    "\n",
    "res_bs = gam_bs.fit()\n",
    "print(res_bs.summary())"
   ]
  },
  {
   "cell_type": "code",
   "execution_count": null,
   "metadata": {},
   "outputs": [],
   "source": [
    "import numpy as np\n",
    "import pandas as pd\n",
    "from pygam import GAM, LinearGAM, s, f, te\n",
    "\n",
    "# Your training and test datasets should be split as X_train, X_test, y_train, y_test\n",
    "n_features = 4\n",
    "\n",
    "# Number of features used in the model\n",
    "lams = np.logspace(-5,5,20) * n_features\n",
    "splines = 12\n",
    "# Number of splines we will use\n",
    "# Linear GAM for Regression\n",
    "\n",
    "gam = LinearGAM(\n",
    "                s(0,n_splines=splines)).gridsearch(\n",
    "                X_train, \n",
    "                y_train,\n",
    "                lam=lams)\n",
    "gam.summary()\n",
    "#print(mean_squared_error(X_test,y_test))"
   ]
  }
 ],
 "metadata": {
  "kernelspec": {
   "display_name": "Python 3",
   "language": "python",
   "name": "python3"
  },
  "language_info": {
   "codemirror_mode": {
    "name": "ipython",
    "version": 3
   },
   "file_extension": ".py",
   "mimetype": "text/x-python",
   "name": "python",
   "nbconvert_exporter": "python",
   "pygments_lexer": "ipython3",
   "version": "3.8.5"
  }
 },
 "nbformat": 4,
 "nbformat_minor": 4
}
